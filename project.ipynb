{
 "cells": [
  {
   "cell_type": "markdown",
   "id": "7147f82b",
   "metadata": {},
   "source": [
    "# Data Analysis Projest Life Cycle\n",
    "- **Business Problem Understanding**\n",
    "- **Data Collection**\n",
    "- **Data Pre-processing**\n",
    "- **Exploratory Data Analysis**\n",
    "- **Reporting**"
   ]
  },
  {
   "cell_type": "markdown",
   "id": "6a523779",
   "metadata": {},
   "source": [
    "## Business Problem\n",
    "**Client wants us to analyze diwali sales data in order to understand the trend, insights, top performing products, categories, zones so that they can prepare better to improve sales**"
   ]
  },
  {
   "cell_type": "markdown",
   "id": "52f3c398",
   "metadata": {},
   "source": [
    "## Data Collection\n",
    "- Client has provided historial data in csv file\n",
    "- Link: https://drive.google.com/file/d/1mGY1doT8RRTgIS0eZsiexHOjUIel9pvo/view?usp=drive_link"
   ]
  },
  {
   "cell_type": "code",
   "execution_count": 2,
   "id": "82393dac",
   "metadata": {},
   "outputs": [],
   "source": [
    "import pandas as pd\n",
    "import numpy as np\n",
    "import seaborn as sns\n",
    "import matplotlib.pyplot as plt\n"
   ]
  },
  {
   "cell_type": "code",
   "execution_count": 3,
   "id": "4903c63d",
   "metadata": {},
   "outputs": [],
   "source": [
    "data = pd.read_csv(r\"C:\\Users\\arpan\\Downloads\\Diwali Sales Data.csv\", encoding ='unicode_escape')"
   ]
  },
  {
   "cell_type": "code",
   "execution_count": 4,
   "id": "a304de90",
   "metadata": {},
   "outputs": [
    {
     "data": {
      "text/html": [
       "<div>\n",
       "<style scoped>\n",
       "    .dataframe tbody tr th:only-of-type {\n",
       "        vertical-align: middle;\n",
       "    }\n",
       "\n",
       "    .dataframe tbody tr th {\n",
       "        vertical-align: top;\n",
       "    }\n",
       "\n",
       "    .dataframe thead th {\n",
       "        text-align: right;\n",
       "    }\n",
       "</style>\n",
       "<table border=\"1\" class=\"dataframe\">\n",
       "  <thead>\n",
       "    <tr style=\"text-align: right;\">\n",
       "      <th></th>\n",
       "      <th>User_ID</th>\n",
       "      <th>Cust_name</th>\n",
       "      <th>Product_ID</th>\n",
       "      <th>Gender</th>\n",
       "      <th>Age Group</th>\n",
       "      <th>Age</th>\n",
       "      <th>Marital_Status</th>\n",
       "      <th>State</th>\n",
       "      <th>Zone</th>\n",
       "      <th>Occupation</th>\n",
       "      <th>Product_Category</th>\n",
       "      <th>Orders</th>\n",
       "      <th>Amount</th>\n",
       "      <th>Status</th>\n",
       "      <th>unnamed1</th>\n",
       "    </tr>\n",
       "  </thead>\n",
       "  <tbody>\n",
       "    <tr>\n",
       "      <th>0</th>\n",
       "      <td>1002903.0</td>\n",
       "      <td>Sanskriti</td>\n",
       "      <td>P00125942</td>\n",
       "      <td>F</td>\n",
       "      <td>26-35</td>\n",
       "      <td>28</td>\n",
       "      <td>0.0</td>\n",
       "      <td>Maharashtra</td>\n",
       "      <td>Western</td>\n",
       "      <td>Healthcare</td>\n",
       "      <td>Auto</td>\n",
       "      <td>1.0</td>\n",
       "      <td>23952</td>\n",
       "      <td>NaN</td>\n",
       "      <td>NaN</td>\n",
       "    </tr>\n",
       "    <tr>\n",
       "      <th>1</th>\n",
       "      <td>1000732.0</td>\n",
       "      <td>Kartik</td>\n",
       "      <td>P00110942</td>\n",
       "      <td>F</td>\n",
       "      <td>26-35</td>\n",
       "      <td>35</td>\n",
       "      <td>1.0</td>\n",
       "      <td>Andhra Pradesh</td>\n",
       "      <td>Southern</td>\n",
       "      <td>Govt</td>\n",
       "      <td>Auto</td>\n",
       "      <td>3.0</td>\n",
       "      <td>23934</td>\n",
       "      <td>NaN</td>\n",
       "      <td>NaN</td>\n",
       "    </tr>\n",
       "    <tr>\n",
       "      <th>2</th>\n",
       "      <td>1001990.0</td>\n",
       "      <td>Bindu</td>\n",
       "      <td>P00118542</td>\n",
       "      <td>F</td>\n",
       "      <td>26-35</td>\n",
       "      <td>35</td>\n",
       "      <td>1.0</td>\n",
       "      <td>Uttar Pradesh</td>\n",
       "      <td>Central</td>\n",
       "      <td>Automobile</td>\n",
       "      <td>Auto</td>\n",
       "      <td>3.0</td>\n",
       "      <td>23924</td>\n",
       "      <td>NaN</td>\n",
       "      <td>NaN</td>\n",
       "    </tr>\n",
       "    <tr>\n",
       "      <th>3</th>\n",
       "      <td>1001425.0</td>\n",
       "      <td>Sudevi</td>\n",
       "      <td>P00237842</td>\n",
       "      <td>M</td>\n",
       "      <td>0-17</td>\n",
       "      <td>16</td>\n",
       "      <td>0.0</td>\n",
       "      <td>Karnataka</td>\n",
       "      <td>Southern</td>\n",
       "      <td>Construction</td>\n",
       "      <td>Auto</td>\n",
       "      <td>2.0</td>\n",
       "      <td>23912</td>\n",
       "      <td>NaN</td>\n",
       "      <td>NaN</td>\n",
       "    </tr>\n",
       "    <tr>\n",
       "      <th>4</th>\n",
       "      <td>1000588.0</td>\n",
       "      <td>Joni</td>\n",
       "      <td>P00057942</td>\n",
       "      <td>M</td>\n",
       "      <td>26-35</td>\n",
       "      <td>28</td>\n",
       "      <td>1.0</td>\n",
       "      <td>Gujarat</td>\n",
       "      <td>Western</td>\n",
       "      <td>Food Processing</td>\n",
       "      <td>Auto</td>\n",
       "      <td>2.0</td>\n",
       "      <td>23877</td>\n",
       "      <td>NaN</td>\n",
       "      <td>NaN</td>\n",
       "    </tr>\n",
       "  </tbody>\n",
       "</table>\n",
       "</div>"
      ],
      "text/plain": [
       "     User_ID  Cust_name Product_ID Gender Age Group Age  Marital_Status  \\\n",
       "0  1002903.0  Sanskriti  P00125942      F     26-35  28             0.0   \n",
       "1  1000732.0     Kartik  P00110942      F     26-35  35             1.0   \n",
       "2  1001990.0      Bindu  P00118542      F     26-35  35             1.0   \n",
       "3  1001425.0     Sudevi  P00237842      M      0-17  16             0.0   \n",
       "4  1000588.0       Joni  P00057942      M     26-35  28             1.0   \n",
       "\n",
       "            State      Zone       Occupation Product_Category  Orders Amount  \\\n",
       "0     Maharashtra   Western       Healthcare             Auto     1.0  23952   \n",
       "1  Andhra Pradesh  Southern             Govt             Auto     3.0  23934   \n",
       "2   Uttar Pradesh   Central       Automobile             Auto     3.0  23924   \n",
       "3       Karnataka  Southern     Construction             Auto     2.0  23912   \n",
       "4         Gujarat   Western  Food Processing             Auto     2.0  23877   \n",
       "\n",
       "   Status  unnamed1  \n",
       "0     NaN       NaN  \n",
       "1     NaN       NaN  \n",
       "2     NaN       NaN  \n",
       "3     NaN       NaN  \n",
       "4     NaN       NaN  "
      ]
     },
     "execution_count": 4,
     "metadata": {},
     "output_type": "execute_result"
    }
   ],
   "source": [
    "data.head()"
   ]
  },
  {
   "cell_type": "code",
   "execution_count": 5,
   "id": "94854bea",
   "metadata": {},
   "outputs": [],
   "source": [
    "df=data.copy()"
   ]
  },
  {
   "cell_type": "code",
   "execution_count": 6,
   "id": "20bd7b13",
   "metadata": {},
   "outputs": [
    {
     "data": {
      "text/plain": [
       "(11345, 15)"
      ]
     },
     "execution_count": 6,
     "metadata": {},
     "output_type": "execute_result"
    }
   ],
   "source": [
    "df.shape"
   ]
  },
  {
   "cell_type": "code",
   "execution_count": 7,
   "id": "51ea933d",
   "metadata": {},
   "outputs": [
    {
     "name": "stdout",
     "output_type": "stream",
     "text": [
      "<class 'pandas.core.frame.DataFrame'>\n",
      "RangeIndex: 11345 entries, 0 to 11344\n",
      "Data columns (total 15 columns):\n",
      " #   Column            Non-Null Count  Dtype  \n",
      "---  ------            --------------  -----  \n",
      " 0   User_ID           11321 non-null  float64\n",
      " 1   Cust_name         11344 non-null  object \n",
      " 2   Product_ID        11341 non-null  object \n",
      " 3   Gender            11341 non-null  object \n",
      " 4   Age Group         11339 non-null  object \n",
      " 5   Age               11334 non-null  object \n",
      " 6   Marital_Status    11339 non-null  float64\n",
      " 7   State             11332 non-null  object \n",
      " 8   Zone              11334 non-null  object \n",
      " 9   Occupation        11339 non-null  object \n",
      " 10  Product_Category  11334 non-null  object \n",
      " 11  Orders            11342 non-null  float64\n",
      " 12  Amount            11331 non-null  object \n",
      " 13  Status            0 non-null      float64\n",
      " 14  unnamed1          0 non-null      float64\n",
      "dtypes: float64(5), object(10)\n",
      "memory usage: 1.3+ MB\n"
     ]
    }
   ],
   "source": [
    "df.info()"
   ]
  },
  {
   "cell_type": "code",
   "execution_count": 8,
   "id": "56527a61",
   "metadata": {},
   "outputs": [
    {
     "data": {
      "text/plain": [
       "User_ID                24\n",
       "Cust_name               1\n",
       "Product_ID              4\n",
       "Gender                  4\n",
       "Age Group               6\n",
       "Age                    11\n",
       "Marital_Status          6\n",
       "State                  13\n",
       "Zone                   11\n",
       "Occupation              6\n",
       "Product_Category       11\n",
       "Orders                  3\n",
       "Amount                 14\n",
       "Status              11345\n",
       "unnamed1            11345\n",
       "dtype: int64"
      ]
     },
     "execution_count": 8,
     "metadata": {},
     "output_type": "execute_result"
    }
   ],
   "source": [
    "# null value\n",
    "null_value = df.isna().sum()\n",
    "null_value"
   ]
  },
  {
   "cell_type": "code",
   "execution_count": 9,
   "id": "16b0a7fc",
   "metadata": {},
   "outputs": [
    {
     "data": {
      "text/plain": [
       "User_ID               0.211547\n",
       "Cust_name             0.008814\n",
       "Product_ID            0.035258\n",
       "Gender                0.035258\n",
       "Age Group             0.052887\n",
       "Age                   0.096959\n",
       "Marital_Status        0.052887\n",
       "State                 0.114588\n",
       "Zone                  0.096959\n",
       "Occupation            0.052887\n",
       "Product_Category      0.096959\n",
       "Orders                0.026443\n",
       "Amount                0.123402\n",
       "Status              100.000000\n",
       "unnamed1            100.000000\n",
       "dtype: float64"
      ]
     },
     "execution_count": 9,
     "metadata": {},
     "output_type": "execute_result"
    }
   ],
   "source": [
    "null_value_percentage = (df.isna().sum()/(df.shape[0]))*100\n",
    "null_value_percentage"
   ]
  },
  {
   "cell_type": "code",
   "execution_count": 10,
   "id": "323a88f4",
   "metadata": {},
   "outputs": [
    {
     "data": {
      "text/html": [
       "<div>\n",
       "<style scoped>\n",
       "    .dataframe tbody tr th:only-of-type {\n",
       "        vertical-align: middle;\n",
       "    }\n",
       "\n",
       "    .dataframe tbody tr th {\n",
       "        vertical-align: top;\n",
       "    }\n",
       "\n",
       "    .dataframe thead th {\n",
       "        text-align: right;\n",
       "    }\n",
       "</style>\n",
       "<table border=\"1\" class=\"dataframe\">\n",
       "  <thead>\n",
       "    <tr style=\"text-align: right;\">\n",
       "      <th></th>\n",
       "      <th>0</th>\n",
       "      <th>1</th>\n",
       "    </tr>\n",
       "  </thead>\n",
       "  <tbody>\n",
       "    <tr>\n",
       "      <th>User_ID</th>\n",
       "      <td>24</td>\n",
       "      <td>0.211547</td>\n",
       "    </tr>\n",
       "    <tr>\n",
       "      <th>Cust_name</th>\n",
       "      <td>1</td>\n",
       "      <td>0.008814</td>\n",
       "    </tr>\n",
       "    <tr>\n",
       "      <th>Product_ID</th>\n",
       "      <td>4</td>\n",
       "      <td>0.035258</td>\n",
       "    </tr>\n",
       "    <tr>\n",
       "      <th>Gender</th>\n",
       "      <td>4</td>\n",
       "      <td>0.035258</td>\n",
       "    </tr>\n",
       "    <tr>\n",
       "      <th>Age Group</th>\n",
       "      <td>6</td>\n",
       "      <td>0.052887</td>\n",
       "    </tr>\n",
       "    <tr>\n",
       "      <th>Age</th>\n",
       "      <td>11</td>\n",
       "      <td>0.096959</td>\n",
       "    </tr>\n",
       "    <tr>\n",
       "      <th>Marital_Status</th>\n",
       "      <td>6</td>\n",
       "      <td>0.052887</td>\n",
       "    </tr>\n",
       "    <tr>\n",
       "      <th>State</th>\n",
       "      <td>13</td>\n",
       "      <td>0.114588</td>\n",
       "    </tr>\n",
       "    <tr>\n",
       "      <th>Zone</th>\n",
       "      <td>11</td>\n",
       "      <td>0.096959</td>\n",
       "    </tr>\n",
       "    <tr>\n",
       "      <th>Occupation</th>\n",
       "      <td>6</td>\n",
       "      <td>0.052887</td>\n",
       "    </tr>\n",
       "    <tr>\n",
       "      <th>Product_Category</th>\n",
       "      <td>11</td>\n",
       "      <td>0.096959</td>\n",
       "    </tr>\n",
       "    <tr>\n",
       "      <th>Orders</th>\n",
       "      <td>3</td>\n",
       "      <td>0.026443</td>\n",
       "    </tr>\n",
       "    <tr>\n",
       "      <th>Amount</th>\n",
       "      <td>14</td>\n",
       "      <td>0.123402</td>\n",
       "    </tr>\n",
       "    <tr>\n",
       "      <th>Status</th>\n",
       "      <td>11345</td>\n",
       "      <td>100.000000</td>\n",
       "    </tr>\n",
       "    <tr>\n",
       "      <th>unnamed1</th>\n",
       "      <td>11345</td>\n",
       "      <td>100.000000</td>\n",
       "    </tr>\n",
       "  </tbody>\n",
       "</table>\n",
       "</div>"
      ],
      "text/plain": [
       "                      0           1\n",
       "User_ID              24    0.211547\n",
       "Cust_name             1    0.008814\n",
       "Product_ID            4    0.035258\n",
       "Gender                4    0.035258\n",
       "Age Group             6    0.052887\n",
       "Age                  11    0.096959\n",
       "Marital_Status        6    0.052887\n",
       "State                13    0.114588\n",
       "Zone                 11    0.096959\n",
       "Occupation            6    0.052887\n",
       "Product_Category     11    0.096959\n",
       "Orders                3    0.026443\n",
       "Amount               14    0.123402\n",
       "Status            11345  100.000000\n",
       "unnamed1          11345  100.000000"
      ]
     },
     "execution_count": 10,
     "metadata": {},
     "output_type": "execute_result"
    }
   ],
   "source": [
    "pd.concat([null_value, null_value_percentage], axis =1)"
   ]
  },
  {
   "cell_type": "code",
   "execution_count": 11,
   "id": "7782c7b5",
   "metadata": {},
   "outputs": [
    {
     "data": {
      "text/plain": [
       "Index(['User_ID', 'Cust_name', 'Product_ID', 'Gender', 'Age Group', 'Age',\n",
       "       'Marital_Status', 'State', 'Zone', 'Occupation', 'Product_Category',\n",
       "       'Orders', 'Amount', 'Status', 'unnamed1'],\n",
       "      dtype='object')"
      ]
     },
     "execution_count": 11,
     "metadata": {},
     "output_type": "execute_result"
    }
   ],
   "source": [
    "# all columns\n",
    "all_columns = df.columns\n",
    "all_columns"
   ]
  },
  {
   "cell_type": "code",
   "execution_count": 12,
   "id": "34acbef1",
   "metadata": {},
   "outputs": [
    {
     "data": {
      "text/plain": [
       "Index(['User_ID', 'Marital_Status', 'Orders', 'Status', 'unnamed1'], dtype='object')"
      ]
     },
     "execution_count": 12,
     "metadata": {},
     "output_type": "execute_result"
    }
   ],
   "source": [
    "#numeric columns\n",
    "numeric_columns = df.select_dtypes(include = np.number).columns\n",
    "numeric_columns"
   ]
  },
  {
   "cell_type": "code",
   "execution_count": 13,
   "id": "8a4fd2dc",
   "metadata": {},
   "outputs": [
    {
     "data": {
      "text/plain": [
       "Index(['Cust_name', 'Product_ID', 'Gender', 'Age Group', 'Age', 'State',\n",
       "       'Zone', 'Occupation', 'Product_Category', 'Amount'],\n",
       "      dtype='object')"
      ]
     },
     "execution_count": 13,
     "metadata": {},
     "output_type": "execute_result"
    }
   ],
   "source": [
    "# non numeric columns\n",
    "non_numeric_columns = df.select_dtypes(include = object).columns\n",
    "non_numeric_columns"
   ]
  },
  {
   "cell_type": "code",
   "execution_count": 14,
   "id": "00e934a6",
   "metadata": {},
   "outputs": [
    {
     "data": {
      "text/plain": [
       "0        False\n",
       "1        False\n",
       "2        False\n",
       "3        False\n",
       "4        False\n",
       "         ...  \n",
       "11340    False\n",
       "11341    False\n",
       "11342    False\n",
       "11343     True\n",
       "11344    False\n",
       "Length: 11345, dtype: bool"
      ]
     },
     "execution_count": 14,
     "metadata": {},
     "output_type": "execute_result"
    }
   ],
   "source": [
    "#duplicated value\n",
    "df.duplicated()"
   ]
  },
  {
   "cell_type": "code",
   "execution_count": 15,
   "id": "922c94f3",
   "metadata": {},
   "outputs": [
    {
     "data": {
      "text/html": [
       "<div>\n",
       "<style scoped>\n",
       "    .dataframe tbody tr th:only-of-type {\n",
       "        vertical-align: middle;\n",
       "    }\n",
       "\n",
       "    .dataframe tbody tr th {\n",
       "        vertical-align: top;\n",
       "    }\n",
       "\n",
       "    .dataframe thead th {\n",
       "        text-align: right;\n",
       "    }\n",
       "</style>\n",
       "<table border=\"1\" class=\"dataframe\">\n",
       "  <thead>\n",
       "    <tr style=\"text-align: right;\">\n",
       "      <th></th>\n",
       "      <th>User_ID</th>\n",
       "      <th>Cust_name</th>\n",
       "      <th>Product_ID</th>\n",
       "      <th>Gender</th>\n",
       "      <th>Age Group</th>\n",
       "      <th>Age</th>\n",
       "      <th>Marital_Status</th>\n",
       "      <th>State</th>\n",
       "      <th>Zone</th>\n",
       "      <th>Occupation</th>\n",
       "      <th>Product_Category</th>\n",
       "      <th>Orders</th>\n",
       "      <th>Amount</th>\n",
       "      <th>Status</th>\n",
       "      <th>unnamed1</th>\n",
       "    </tr>\n",
       "  </thead>\n",
       "  <tbody>\n",
       "  </tbody>\n",
       "</table>\n",
       "</div>"
      ],
      "text/plain": [
       "Empty DataFrame\n",
       "Columns: [User_ID, Cust_name, Product_ID, Gender, Age Group, Age, Marital_Status, State, Zone, Occupation, Product_Category, Orders, Amount, Status, unnamed1]\n",
       "Index: []"
      ]
     },
     "execution_count": 15,
     "metadata": {},
     "output_type": "execute_result"
    }
   ],
   "source": [
    "# filtering out the duplicated entries\n",
    "df = df[~df.duplicated()]\n",
    "df[df.duplicated()]"
   ]
  },
  {
   "cell_type": "code",
   "execution_count": 16,
   "id": "d671ddc2",
   "metadata": {},
   "outputs": [
    {
     "data": {
      "text/plain": [
       "Index(['User_ID', 'Cust_name', 'Product_ID', 'Gender', 'Age Group', 'Age',\n",
       "       'Marital_Status', 'State', 'Zone', 'Occupation', 'Product_Category',\n",
       "       'Orders', 'Amount', 'Status', 'unnamed1'],\n",
       "      dtype='object')"
      ]
     },
     "execution_count": 16,
     "metadata": {},
     "output_type": "execute_result"
    }
   ],
   "source": [
    "df.columns"
   ]
  },
  {
   "cell_type": "code",
   "execution_count": 17,
   "id": "5f7e001d",
   "metadata": {},
   "outputs": [
    {
     "data": {
      "text/plain": [
       "dtype('O')"
      ]
     },
     "execution_count": 17,
     "metadata": {},
     "output_type": "execute_result"
    }
   ],
   "source": [
    "df['Amount'].dtype"
   ]
  },
  {
   "cell_type": "code",
   "execution_count": 18,
   "id": "ac02868b",
   "metadata": {},
   "outputs": [
    {
     "data": {
      "text/plain": [
       "array(['23952', '23934', '23924', ..., '125621259', '876021246', 'abcde'],\n",
       "      dtype=object)"
      ]
     },
     "execution_count": 18,
     "metadata": {},
     "output_type": "execute_result"
    }
   ],
   "source": [
    "df['Amount'].unique()"
   ]
  },
  {
   "cell_type": "code",
   "execution_count": 19,
   "id": "ea6d4784",
   "metadata": {},
   "outputs": [
    {
     "data": {
      "text/plain": [
       "array(['Maharashtra', 'Andhra\\xa0Pradesh', 'Uttar Pradesh', 'Karnataka',\n",
       "       'Gujarat', 'Himachal Pradesh', 'Delhi', 'Madhya Pradesh',\n",
       "       'Jharkhand', 'Kerala', 'Nndhra\\xa0Pradesh', nan, 'Bihar',\n",
       "       'Rajasthan', 'Haryana', 'Uttarakhand', 'Telangana', 'Punjab'],\n",
       "      dtype=object)"
      ]
     },
     "execution_count": 19,
     "metadata": {},
     "output_type": "execute_result"
    }
   ],
   "source": [
    "df['State'].unique()"
   ]
  },
  {
   "cell_type": "code",
   "execution_count": 20,
   "id": "78efbec2",
   "metadata": {},
   "outputs": [
    {
     "data": {
      "text/plain": [
       "Uttar Pradesh       1950\n",
       "Maharashtra         1527\n",
       "Karnataka           1318\n",
       "Delhi               1124\n",
       "Madhya Pradesh       924\n",
       "Andhra Pradesh       813\n",
       "Himachal Pradesh     608\n",
       "Kerala               454\n",
       "Haryana              450\n",
       "Bihar                434\n",
       "Gujarat              429\n",
       "Jharkhand            380\n",
       "Uttarakhand          321\n",
       "Rajasthan            232\n",
       "Punjab               200\n",
       "Telangana            125\n",
       "Nndhra Pradesh         3\n",
       "Name: State, dtype: int64"
      ]
     },
     "execution_count": 20,
     "metadata": {},
     "output_type": "execute_result"
    }
   ],
   "source": [
    "df['State'].value_counts()"
   ]
  },
  {
   "cell_type": "code",
   "execution_count": 21,
   "id": "265f7f3d",
   "metadata": {},
   "outputs": [
    {
     "data": {
      "text/plain": [
       "13"
      ]
     },
     "execution_count": 21,
     "metadata": {},
     "output_type": "execute_result"
    }
   ],
   "source": [
    "df['State'].isnull().sum()"
   ]
  },
  {
   "cell_type": "code",
   "execution_count": 22,
   "id": "4d87603a",
   "metadata": {},
   "outputs": [
    {
     "data": {
      "text/plain": [
       "11"
      ]
     },
     "execution_count": 22,
     "metadata": {},
     "output_type": "execute_result"
    }
   ],
   "source": [
    "df['Zone'].isnull().sum()"
   ]
  },
  {
   "cell_type": "code",
   "execution_count": 23,
   "id": "e24e630d",
   "metadata": {},
   "outputs": [
    {
     "data": {
      "text/plain": [
       "array(['Western', 'Southern', 'Central', 'Northern', 'Zentral', 'Eastern',\n",
       "       nan], dtype=object)"
      ]
     },
     "execution_count": 23,
     "metadata": {},
     "output_type": "execute_result"
    }
   ],
   "source": [
    "df['Zone'].unique()"
   ]
  },
  {
   "cell_type": "code",
   "execution_count": 24,
   "id": "48cd09fe",
   "metadata": {},
   "outputs": [
    {
     "data": {
      "text/plain": [
       "4"
      ]
     },
     "execution_count": 24,
     "metadata": {},
     "output_type": "execute_result"
    }
   ],
   "source": [
    "df['Product_ID'].isnull().sum()"
   ]
  },
  {
   "cell_type": "code",
   "execution_count": 25,
   "id": "d6a3333b",
   "metadata": {},
   "outputs": [
    {
     "data": {
      "text/plain": [
       "30     522\n",
       "26     493\n",
       "28     459\n",
       "29     454\n",
       "31     448\n",
       "      ... \n",
       "59       7\n",
       "92       7\n",
       "70       7\n",
       "Age      7\n",
       "62       5\n",
       "Name: Age, Length: 82, dtype: int64"
      ]
     },
     "execution_count": 25,
     "metadata": {},
     "output_type": "execute_result"
    }
   ],
   "source": [
    "df['Age'].value_counts()"
   ]
  },
  {
   "cell_type": "code",
   "execution_count": 26,
   "id": "b9496ea1",
   "metadata": {},
   "outputs": [
    {
     "data": {
      "text/plain": [
       "array(['26-35', '0-17', '18-25', '55+', '46-50', nan, '51-55', '36-45',\n",
       "       'low-high'], dtype=object)"
      ]
     },
     "execution_count": 26,
     "metadata": {},
     "output_type": "execute_result"
    }
   ],
   "source": [
    "df['Age Group'].unique()"
   ]
  },
  {
   "cell_type": "markdown",
   "id": "4ea2cb4c",
   "metadata": {},
   "source": [
    "### Data Profiling\n",
    "1. **Amount**\n",
    "    - Need to change the data type from object to integer\n",
    "    - The rows croesponding   to null values should be dropped\n",
    "    - Need to drop the rows croesponding  to value 'abcds'\n",
    "2. **status & unnamed1**\n",
    "    - No data, should be droped\n",
    "3. **Orders**\n",
    "    - Null value has to be dropped\n",
    "    - There is outliers which can be removed\n",
    "4. **state**\n",
    "    - Andhra\\xa0Pradesh and Nndhra\\xa0Pradesh  should be replaced with 'Andhra Pradesh'\n",
    "    - Drop the rows corresponding to null values\n",
    "5. **Zone**\n",
    "    - Drop the rows corresponding to null values\n",
    "    - 'Zentral' Should be replaced with 'Central'\n",
    "6. **Product_Id**\n",
    "    - Drop the rows corresponding to null values\n",
    "7. **Marital_Status**\n",
    "    - Null values can be replaced with mode\n",
    "    - will create a new column where '1' can be replaced with 'Married' and '0' can be replaced with 'UnMarried'\n",
    "8. ** Age**\n",
    "     - 'Age' can be replaced with mode\n",
    "     - Null values can be replaced with mode\n",
    "     - data type needs to be changed from object to numeric\n",
    "9. **Age group**\n",
    "    - 'low-high' can be replaced with mode\n",
    "    - Null valued can be replaced with mode\n",
    "10. **Prodect_Category**\n",
    "    - Null values can be drpped\n",
    "11. **Gender Occupation**\n",
    "    - Null valued can be replaced with mode\n",
    "    "
   ]
  },
  {
   "cell_type": "markdown",
   "id": "561d04da",
   "metadata": {},
   "source": [
    "###  Data Cleaning"
   ]
  },
  {
   "cell_type": "markdown",
   "id": "2b1208f7",
   "metadata": {},
   "source": [
    "####  Status & unnamed1"
   ]
  },
  {
   "cell_type": "code",
   "execution_count": 27,
   "id": "b146b911",
   "metadata": {},
   "outputs": [
    {
     "data": {
      "text/html": [
       "<div>\n",
       "<style scoped>\n",
       "    .dataframe tbody tr th:only-of-type {\n",
       "        vertical-align: middle;\n",
       "    }\n",
       "\n",
       "    .dataframe tbody tr th {\n",
       "        vertical-align: top;\n",
       "    }\n",
       "\n",
       "    .dataframe thead th {\n",
       "        text-align: right;\n",
       "    }\n",
       "</style>\n",
       "<table border=\"1\" class=\"dataframe\">\n",
       "  <thead>\n",
       "    <tr style=\"text-align: right;\">\n",
       "      <th></th>\n",
       "      <th>User_ID</th>\n",
       "      <th>Cust_name</th>\n",
       "      <th>Product_ID</th>\n",
       "      <th>Gender</th>\n",
       "      <th>Age Group</th>\n",
       "      <th>Age</th>\n",
       "      <th>Marital_Status</th>\n",
       "      <th>State</th>\n",
       "      <th>Zone</th>\n",
       "      <th>Occupation</th>\n",
       "      <th>Product_Category</th>\n",
       "      <th>Orders</th>\n",
       "      <th>Amount</th>\n",
       "      <th>Status</th>\n",
       "      <th>unnamed1</th>\n",
       "    </tr>\n",
       "  </thead>\n",
       "  <tbody>\n",
       "    <tr>\n",
       "      <th>0</th>\n",
       "      <td>1002903.0</td>\n",
       "      <td>Sanskriti</td>\n",
       "      <td>P00125942</td>\n",
       "      <td>F</td>\n",
       "      <td>26-35</td>\n",
       "      <td>28</td>\n",
       "      <td>0.0</td>\n",
       "      <td>Maharashtra</td>\n",
       "      <td>Western</td>\n",
       "      <td>Healthcare</td>\n",
       "      <td>Auto</td>\n",
       "      <td>1.0</td>\n",
       "      <td>23952</td>\n",
       "      <td>NaN</td>\n",
       "      <td>NaN</td>\n",
       "    </tr>\n",
       "    <tr>\n",
       "      <th>1</th>\n",
       "      <td>1000732.0</td>\n",
       "      <td>Kartik</td>\n",
       "      <td>P00110942</td>\n",
       "      <td>F</td>\n",
       "      <td>26-35</td>\n",
       "      <td>35</td>\n",
       "      <td>1.0</td>\n",
       "      <td>Andhra Pradesh</td>\n",
       "      <td>Southern</td>\n",
       "      <td>Govt</td>\n",
       "      <td>Auto</td>\n",
       "      <td>3.0</td>\n",
       "      <td>23934</td>\n",
       "      <td>NaN</td>\n",
       "      <td>NaN</td>\n",
       "    </tr>\n",
       "  </tbody>\n",
       "</table>\n",
       "</div>"
      ],
      "text/plain": [
       "     User_ID  Cust_name Product_ID Gender Age Group Age  Marital_Status  \\\n",
       "0  1002903.0  Sanskriti  P00125942      F     26-35  28             0.0   \n",
       "1  1000732.0     Kartik  P00110942      F     26-35  35             1.0   \n",
       "\n",
       "            State      Zone  Occupation Product_Category  Orders Amount  \\\n",
       "0     Maharashtra   Western  Healthcare             Auto     1.0  23952   \n",
       "1  Andhra Pradesh  Southern        Govt             Auto     3.0  23934   \n",
       "\n",
       "   Status  unnamed1  \n",
       "0     NaN       NaN  \n",
       "1     NaN       NaN  "
      ]
     },
     "execution_count": 27,
     "metadata": {},
     "output_type": "execute_result"
    }
   ],
   "source": [
    "# Dropping columns\n",
    "#df.drop(['Status', 'unnamed1'],axis = 1, inplace = True) #in case column is not droping we need to write this code. in this case column already dropped.\n",
    "df.head(2)"
   ]
  },
  {
   "cell_type": "markdown",
   "id": "b1c36209",
   "metadata": {},
   "source": [
    "#### Amount"
   ]
  },
  {
   "cell_type": "code",
   "execution_count": 28,
   "id": "480bb4e9",
   "metadata": {},
   "outputs": [],
   "source": [
    "# changing the data type\n",
    "df['Amount'] = pd.to_numeric(df['Amount'], errors = 'coerce')\n",
    "# errors = coerce will convert unsupported value into null value"
   ]
  },
  {
   "cell_type": "code",
   "execution_count": 29,
   "id": "085034a4",
   "metadata": {},
   "outputs": [
    {
     "data": {
      "text/plain": [
       "17"
      ]
     },
     "execution_count": 29,
     "metadata": {},
     "output_type": "execute_result"
    }
   ],
   "source": [
    "df['Amount'].isnull().sum()"
   ]
  },
  {
   "cell_type": "code",
   "execution_count": 30,
   "id": "86a2db81",
   "metadata": {},
   "outputs": [],
   "source": [
    "#dropping Rows croessponding null value in the columns : \n",
    "#['Amount', 'Orders', 'State', 'Zone', 'Product_ID', 'Product_Category']\n",
    "df.dropna(subset = ['Amount', 'Orders', 'State', 'Zone', 'Product_ID', 'Product_Category'], inplace = True )"
   ]
  },
  {
   "cell_type": "code",
   "execution_count": 31,
   "id": "7f5e3fbd",
   "metadata": {},
   "outputs": [
    {
     "data": {
      "text/plain": [
       "User_ID                23\n",
       "Cust_name               0\n",
       "Product_ID              0\n",
       "Gender                  2\n",
       "Age Group               5\n",
       "Age                     9\n",
       "Marital_Status          5\n",
       "State                   0\n",
       "Zone                    0\n",
       "Occupation              5\n",
       "Product_Category        0\n",
       "Orders                  0\n",
       "Amount                  0\n",
       "Status              11254\n",
       "unnamed1            11254\n",
       "dtype: int64"
      ]
     },
     "execution_count": 31,
     "metadata": {},
     "output_type": "execute_result"
    }
   ],
   "source": [
    "df.isna().sum()"
   ]
  },
  {
   "cell_type": "markdown",
   "id": "0ebca8f3",
   "metadata": {},
   "source": [
    "####  State & Zone"
   ]
  },
  {
   "cell_type": "code",
   "execution_count": 32,
   "id": "03a1b23e",
   "metadata": {},
   "outputs": [],
   "source": [
    "#replacing the typo\n",
    "#df['State'].unique()\n",
    "df['State'] = df['State'].str.replace('Andhra\\xa0Pradesh', 'Andhra Pradesh')\n",
    "df['State'] = df['State'].str.replace('Nndhra\\xa0Pradesh', 'Andhra Pradesh')\n",
    "df['Zone'] = df['Zone'].str.replace('Zentral', 'Central')"
   ]
  },
  {
   "cell_type": "code",
   "execution_count": 33,
   "id": "f99be6e8",
   "metadata": {},
   "outputs": [
    {
     "data": {
      "text/plain": [
       "array(['Maharashtra', 'Andhra Pradesh', 'Uttar Pradesh', 'Karnataka',\n",
       "       'Gujarat', 'Himachal Pradesh', 'Delhi', 'Jharkhand', 'Kerala',\n",
       "       'Madhya Pradesh', 'Bihar', 'Rajasthan', 'Haryana', 'Uttarakhand',\n",
       "       'Telangana', 'Punjab'], dtype=object)"
      ]
     },
     "execution_count": 33,
     "metadata": {},
     "output_type": "execute_result"
    }
   ],
   "source": [
    "df['State'].unique()"
   ]
  },
  {
   "cell_type": "code",
   "execution_count": 34,
   "id": "15fccc98",
   "metadata": {},
   "outputs": [
    {
     "data": {
      "text/plain": [
       "array(['Western', 'Southern', 'Central', 'Northern', 'Eastern'],\n",
       "      dtype=object)"
      ]
     },
     "execution_count": 34,
     "metadata": {},
     "output_type": "execute_result"
    }
   ],
   "source": [
    "df['Zone'].unique()"
   ]
  },
  {
   "cell_type": "markdown",
   "id": "34d6235c",
   "metadata": {},
   "source": [
    "###  Product_ID"
   ]
  },
  {
   "cell_type": "markdown",
   "id": "cb5bf319",
   "metadata": {},
   "source": [
    "#### Already Cleaned"
   ]
  },
  {
   "cell_type": "markdown",
   "id": "b0c83d5e",
   "metadata": {},
   "source": [
    "#### Marital_Status"
   ]
  },
  {
   "cell_type": "code",
   "execution_count": 35,
   "id": "c8c33cdb",
   "metadata": {},
   "outputs": [],
   "source": [
    "#replacing the null value with mode\n",
    "marital_status_mode = df['Marital_Status'].mode()[0]\n",
    "marital_status_mode \n",
    "df['Marital_Status'] = df['Marital_Status'].fillna(marital_status_mode )\n"
   ]
  },
  {
   "cell_type": "code",
   "execution_count": 36,
   "id": "869ed19b",
   "metadata": {},
   "outputs": [
    {
     "data": {
      "text/plain": [
       "0"
      ]
     },
     "execution_count": 36,
     "metadata": {},
     "output_type": "execute_result"
    }
   ],
   "source": [
    "df['Marital_Status'].isna().sum()"
   ]
  },
  {
   "cell_type": "code",
   "execution_count": 37,
   "id": "0d20cc96",
   "metadata": {},
   "outputs": [],
   "source": [
    "#Creating a new value with Marital_Status\n",
    "df['Marraige_Status']=df['Marital_Status'].apply(lambda x: 'Married' if(x==1.) else 'Unmarried')"
   ]
  },
  {
   "cell_type": "code",
   "execution_count": 38,
   "id": "599c680b",
   "metadata": {},
   "outputs": [
    {
     "data": {
      "text/html": [
       "<div>\n",
       "<style scoped>\n",
       "    .dataframe tbody tr th:only-of-type {\n",
       "        vertical-align: middle;\n",
       "    }\n",
       "\n",
       "    .dataframe tbody tr th {\n",
       "        vertical-align: top;\n",
       "    }\n",
       "\n",
       "    .dataframe thead th {\n",
       "        text-align: right;\n",
       "    }\n",
       "</style>\n",
       "<table border=\"1\" class=\"dataframe\">\n",
       "  <thead>\n",
       "    <tr style=\"text-align: right;\">\n",
       "      <th></th>\n",
       "      <th>User_ID</th>\n",
       "      <th>Cust_name</th>\n",
       "      <th>Product_ID</th>\n",
       "      <th>Gender</th>\n",
       "      <th>Age Group</th>\n",
       "      <th>Age</th>\n",
       "      <th>Marital_Status</th>\n",
       "      <th>State</th>\n",
       "      <th>Zone</th>\n",
       "      <th>Occupation</th>\n",
       "      <th>Product_Category</th>\n",
       "      <th>Orders</th>\n",
       "      <th>Amount</th>\n",
       "      <th>Status</th>\n",
       "      <th>unnamed1</th>\n",
       "      <th>Marraige_Status</th>\n",
       "    </tr>\n",
       "  </thead>\n",
       "  <tbody>\n",
       "    <tr>\n",
       "      <th>0</th>\n",
       "      <td>1002903.0</td>\n",
       "      <td>Sanskriti</td>\n",
       "      <td>P00125942</td>\n",
       "      <td>F</td>\n",
       "      <td>26-35</td>\n",
       "      <td>28</td>\n",
       "      <td>0.0</td>\n",
       "      <td>Maharashtra</td>\n",
       "      <td>Western</td>\n",
       "      <td>Healthcare</td>\n",
       "      <td>Auto</td>\n",
       "      <td>1.0</td>\n",
       "      <td>23952.0</td>\n",
       "      <td>NaN</td>\n",
       "      <td>NaN</td>\n",
       "      <td>Unmarried</td>\n",
       "    </tr>\n",
       "    <tr>\n",
       "      <th>1</th>\n",
       "      <td>1000732.0</td>\n",
       "      <td>Kartik</td>\n",
       "      <td>P00110942</td>\n",
       "      <td>F</td>\n",
       "      <td>26-35</td>\n",
       "      <td>35</td>\n",
       "      <td>1.0</td>\n",
       "      <td>Andhra Pradesh</td>\n",
       "      <td>Southern</td>\n",
       "      <td>Govt</td>\n",
       "      <td>Auto</td>\n",
       "      <td>3.0</td>\n",
       "      <td>23934.0</td>\n",
       "      <td>NaN</td>\n",
       "      <td>NaN</td>\n",
       "      <td>Married</td>\n",
       "    </tr>\n",
       "    <tr>\n",
       "      <th>2</th>\n",
       "      <td>1001990.0</td>\n",
       "      <td>Bindu</td>\n",
       "      <td>P00118542</td>\n",
       "      <td>F</td>\n",
       "      <td>26-35</td>\n",
       "      <td>35</td>\n",
       "      <td>1.0</td>\n",
       "      <td>Uttar Pradesh</td>\n",
       "      <td>Central</td>\n",
       "      <td>Automobile</td>\n",
       "      <td>Auto</td>\n",
       "      <td>3.0</td>\n",
       "      <td>23924.0</td>\n",
       "      <td>NaN</td>\n",
       "      <td>NaN</td>\n",
       "      <td>Married</td>\n",
       "    </tr>\n",
       "  </tbody>\n",
       "</table>\n",
       "</div>"
      ],
      "text/plain": [
       "     User_ID  Cust_name Product_ID Gender Age Group Age  Marital_Status  \\\n",
       "0  1002903.0  Sanskriti  P00125942      F     26-35  28             0.0   \n",
       "1  1000732.0     Kartik  P00110942      F     26-35  35             1.0   \n",
       "2  1001990.0      Bindu  P00118542      F     26-35  35             1.0   \n",
       "\n",
       "            State      Zone  Occupation Product_Category  Orders   Amount  \\\n",
       "0     Maharashtra   Western  Healthcare             Auto     1.0  23952.0   \n",
       "1  Andhra Pradesh  Southern        Govt             Auto     3.0  23934.0   \n",
       "2   Uttar Pradesh   Central  Automobile             Auto     3.0  23924.0   \n",
       "\n",
       "   Status  unnamed1 Marraige_Status  \n",
       "0     NaN       NaN       Unmarried  \n",
       "1     NaN       NaN         Married  \n",
       "2     NaN       NaN         Married  "
      ]
     },
     "execution_count": 38,
     "metadata": {},
     "output_type": "execute_result"
    }
   ],
   "source": [
    "df.head(3)"
   ]
  },
  {
   "cell_type": "markdown",
   "id": "bd97d28f",
   "metadata": {},
   "source": [
    "####  Age"
   ]
  },
  {
   "cell_type": "code",
   "execution_count": 39,
   "id": "b3bab7ef",
   "metadata": {},
   "outputs": [],
   "source": [
    "# changing the data type from object to numaric\n",
    "df['Age'] = pd.to_numeric(df['Age'], errors = 'coerce')"
   ]
  },
  {
   "cell_type": "code",
   "execution_count": 40,
   "id": "f76174dd",
   "metadata": {},
   "outputs": [],
   "source": [
    "#replace the value with mode\n",
    "age_mode=df['Age'].mode()[0]\n",
    "df['Age'] = df['Age'].fillna(age_mode)"
   ]
  },
  {
   "cell_type": "code",
   "execution_count": 41,
   "id": "6379b3b8",
   "metadata": {},
   "outputs": [
    {
     "data": {
      "text/plain": [
       "0"
      ]
     },
     "execution_count": 41,
     "metadata": {},
     "output_type": "execute_result"
    }
   ],
   "source": [
    "df['Age'].isna().sum()"
   ]
  },
  {
   "cell_type": "markdown",
   "id": "3ec824b0",
   "metadata": {},
   "source": [
    "#### Age group"
   ]
  },
  {
   "cell_type": "code",
   "execution_count": 42,
   "id": "144a391d",
   "metadata": {},
   "outputs": [],
   "source": [
    "#replacing null value with typo with mode\n",
    "age_group_mode = df['Age Group'].mode()[0]\n",
    "age_group_mode\n",
    "df['Age Group'] = df['Age Group'].str.replace('low-high', age_group_mode)\n",
    "df['Age Group'] =  df['Age Group'].fillna(age_group_mode)"
   ]
  },
  {
   "cell_type": "code",
   "execution_count": 43,
   "id": "f36bf61a",
   "metadata": {},
   "outputs": [
    {
     "data": {
      "text/html": [
       "<div>\n",
       "<style scoped>\n",
       "    .dataframe tbody tr th:only-of-type {\n",
       "        vertical-align: middle;\n",
       "    }\n",
       "\n",
       "    .dataframe tbody tr th {\n",
       "        vertical-align: top;\n",
       "    }\n",
       "\n",
       "    .dataframe thead th {\n",
       "        text-align: right;\n",
       "    }\n",
       "</style>\n",
       "<table border=\"1\" class=\"dataframe\">\n",
       "  <thead>\n",
       "    <tr style=\"text-align: right;\">\n",
       "      <th></th>\n",
       "      <th>User_ID</th>\n",
       "      <th>Cust_name</th>\n",
       "      <th>Product_ID</th>\n",
       "      <th>Gender</th>\n",
       "      <th>Age Group</th>\n",
       "      <th>Age</th>\n",
       "      <th>Marital_Status</th>\n",
       "      <th>State</th>\n",
       "      <th>Zone</th>\n",
       "      <th>Occupation</th>\n",
       "      <th>Product_Category</th>\n",
       "      <th>Orders</th>\n",
       "      <th>Amount</th>\n",
       "      <th>Status</th>\n",
       "      <th>unnamed1</th>\n",
       "      <th>Marraige_Status</th>\n",
       "    </tr>\n",
       "  </thead>\n",
       "  <tbody>\n",
       "    <tr>\n",
       "      <th>0</th>\n",
       "      <td>1002903.0</td>\n",
       "      <td>Sanskriti</td>\n",
       "      <td>P00125942</td>\n",
       "      <td>F</td>\n",
       "      <td>26-35</td>\n",
       "      <td>28.0</td>\n",
       "      <td>0.0</td>\n",
       "      <td>Maharashtra</td>\n",
       "      <td>Western</td>\n",
       "      <td>Healthcare</td>\n",
       "      <td>Auto</td>\n",
       "      <td>1.0</td>\n",
       "      <td>23952.0</td>\n",
       "      <td>NaN</td>\n",
       "      <td>NaN</td>\n",
       "      <td>Unmarried</td>\n",
       "    </tr>\n",
       "    <tr>\n",
       "      <th>1</th>\n",
       "      <td>1000732.0</td>\n",
       "      <td>Kartik</td>\n",
       "      <td>P00110942</td>\n",
       "      <td>F</td>\n",
       "      <td>26-35</td>\n",
       "      <td>35.0</td>\n",
       "      <td>1.0</td>\n",
       "      <td>Andhra Pradesh</td>\n",
       "      <td>Southern</td>\n",
       "      <td>Govt</td>\n",
       "      <td>Auto</td>\n",
       "      <td>3.0</td>\n",
       "      <td>23934.0</td>\n",
       "      <td>NaN</td>\n",
       "      <td>NaN</td>\n",
       "      <td>Married</td>\n",
       "    </tr>\n",
       "  </tbody>\n",
       "</table>\n",
       "</div>"
      ],
      "text/plain": [
       "     User_ID  Cust_name Product_ID Gender Age Group   Age  Marital_Status  \\\n",
       "0  1002903.0  Sanskriti  P00125942      F     26-35  28.0             0.0   \n",
       "1  1000732.0     Kartik  P00110942      F     26-35  35.0             1.0   \n",
       "\n",
       "            State      Zone  Occupation Product_Category  Orders   Amount  \\\n",
       "0     Maharashtra   Western  Healthcare             Auto     1.0  23952.0   \n",
       "1  Andhra Pradesh  Southern        Govt             Auto     3.0  23934.0   \n",
       "\n",
       "   Status  unnamed1 Marraige_Status  \n",
       "0     NaN       NaN       Unmarried  \n",
       "1     NaN       NaN         Married  "
      ]
     },
     "execution_count": 43,
     "metadata": {},
     "output_type": "execute_result"
    }
   ],
   "source": [
    "df.head(2)"
   ]
  },
  {
   "cell_type": "markdown",
   "id": "7efacf5d",
   "metadata": {},
   "source": [
    "### Product Catagory"
   ]
  },
  {
   "cell_type": "markdown",
   "id": "2a483b9c",
   "metadata": {},
   "source": [
    "####  Already execued"
   ]
  },
  {
   "cell_type": "markdown",
   "id": "39bb941d",
   "metadata": {},
   "source": [
    "#### Gender & Occoupation"
   ]
  },
  {
   "cell_type": "code",
   "execution_count": 44,
   "id": "b8e75934",
   "metadata": {},
   "outputs": [],
   "source": [
    "# replacing null value with mode\n",
    "gender_mode = df['Gender'].mode()[0]\n",
    "Occoupation_mode = df['Occupation'].mode()[0]\n",
    "df['Gender'] =  df['Gender'].fillna(gender_mode)\n",
    "df['Occupation'] = df['Occupation'].fillna(Occoupation_mode)\n",
    "user_id_mode = df['User_ID'].mode()[0]\n",
    "df['User_ID'] =  df['User_ID'].fillna(user_id_mode)"
   ]
  },
  {
   "cell_type": "code",
   "execution_count": 45,
   "id": "d43d627d",
   "metadata": {},
   "outputs": [
    {
     "name": "stdout",
     "output_type": "stream",
     "text": [
      "<class 'pandas.core.frame.DataFrame'>\n",
      "Int64Index: 11254 entries, 0 to 11340\n",
      "Data columns (total 16 columns):\n",
      " #   Column            Non-Null Count  Dtype  \n",
      "---  ------            --------------  -----  \n",
      " 0   User_ID           11254 non-null  float64\n",
      " 1   Cust_name         11254 non-null  object \n",
      " 2   Product_ID        11254 non-null  object \n",
      " 3   Gender            11254 non-null  object \n",
      " 4   Age Group         11254 non-null  object \n",
      " 5   Age               11254 non-null  float64\n",
      " 6   Marital_Status    11254 non-null  float64\n",
      " 7   State             11254 non-null  object \n",
      " 8   Zone              11254 non-null  object \n",
      " 9   Occupation        11254 non-null  object \n",
      " 10  Product_Category  11254 non-null  object \n",
      " 11  Orders            11254 non-null  float64\n",
      " 12  Amount            11254 non-null  float64\n",
      " 13  Status            0 non-null      float64\n",
      " 14  unnamed1          0 non-null      float64\n",
      " 15  Marraige_Status   11254 non-null  object \n",
      "dtypes: float64(7), object(9)\n",
      "memory usage: 1.5+ MB\n"
     ]
    }
   ],
   "source": [
    "df.info()"
   ]
  },
  {
   "cell_type": "code",
   "execution_count": 46,
   "id": "a852d378",
   "metadata": {},
   "outputs": [
    {
     "data": {
      "text/plain": [
       "User_ID                 0\n",
       "Cust_name               0\n",
       "Product_ID              0\n",
       "Gender                  0\n",
       "Age Group               0\n",
       "Age                     0\n",
       "Marital_Status          0\n",
       "State                   0\n",
       "Zone                    0\n",
       "Occupation              0\n",
       "Product_Category        0\n",
       "Orders                  0\n",
       "Amount                  0\n",
       "Status              11254\n",
       "unnamed1            11254\n",
       "Marraige_Status         0\n",
       "dtype: int64"
      ]
     },
     "execution_count": 46,
     "metadata": {},
     "output_type": "execute_result"
    }
   ],
   "source": [
    "df.isna().sum()"
   ]
  },
  {
   "cell_type": "markdown",
   "id": "fb7584b1",
   "metadata": {},
   "source": [
    "###  Outlier Detection & Removal"
   ]
  },
  {
   "cell_type": "code",
   "execution_count": 47,
   "id": "88d07658",
   "metadata": {},
   "outputs": [
    {
     "data": {
      "text/html": [
       "<div>\n",
       "<style scoped>\n",
       "    .dataframe tbody tr th:only-of-type {\n",
       "        vertical-align: middle;\n",
       "    }\n",
       "\n",
       "    .dataframe tbody tr th {\n",
       "        vertical-align: top;\n",
       "    }\n",
       "\n",
       "    .dataframe thead th {\n",
       "        text-align: right;\n",
       "    }\n",
       "</style>\n",
       "<table border=\"1\" class=\"dataframe\">\n",
       "  <thead>\n",
       "    <tr style=\"text-align: right;\">\n",
       "      <th></th>\n",
       "      <th>User_ID</th>\n",
       "      <th>Age</th>\n",
       "      <th>Marital_Status</th>\n",
       "      <th>Orders</th>\n",
       "      <th>Amount</th>\n",
       "      <th>Status</th>\n",
       "      <th>unnamed1</th>\n",
       "    </tr>\n",
       "  </thead>\n",
       "  <tbody>\n",
       "    <tr>\n",
       "      <th>count</th>\n",
       "      <td>1.125400e+04</td>\n",
       "      <td>11254.000000</td>\n",
       "      <td>11254.000000</td>\n",
       "      <td>11254.000000</td>\n",
       "      <td>1.125400e+04</td>\n",
       "      <td>0.0</td>\n",
       "      <td>0.0</td>\n",
       "    </tr>\n",
       "    <tr>\n",
       "      <th>mean</th>\n",
       "      <td>1.013664e+06</td>\n",
       "      <td>35.424382</td>\n",
       "      <td>0.419762</td>\n",
       "      <td>2.494135</td>\n",
       "      <td>1.916697e+05</td>\n",
       "      <td>NaN</td>\n",
       "      <td>NaN</td>\n",
       "    </tr>\n",
       "    <tr>\n",
       "      <th>std</th>\n",
       "      <td>3.263686e+05</td>\n",
       "      <td>12.753259</td>\n",
       "      <td>0.493542</td>\n",
       "      <td>1.186925</td>\n",
       "      <td>1.072906e+07</td>\n",
       "      <td>NaN</td>\n",
       "      <td>NaN</td>\n",
       "    </tr>\n",
       "    <tr>\n",
       "      <th>min</th>\n",
       "      <td>1.000001e+06</td>\n",
       "      <td>12.000000</td>\n",
       "      <td>0.000000</td>\n",
       "      <td>1.000000</td>\n",
       "      <td>1.880000e+02</td>\n",
       "      <td>NaN</td>\n",
       "      <td>NaN</td>\n",
       "    </tr>\n",
       "    <tr>\n",
       "      <th>25%</th>\n",
       "      <td>1.001496e+06</td>\n",
       "      <td>27.000000</td>\n",
       "      <td>0.000000</td>\n",
       "      <td>2.000000</td>\n",
       "      <td>5.445000e+03</td>\n",
       "      <td>NaN</td>\n",
       "      <td>NaN</td>\n",
       "    </tr>\n",
       "    <tr>\n",
       "      <th>50%</th>\n",
       "      <td>1.003064e+06</td>\n",
       "      <td>33.000000</td>\n",
       "      <td>0.000000</td>\n",
       "      <td>2.000000</td>\n",
       "      <td>8.113000e+03</td>\n",
       "      <td>NaN</td>\n",
       "      <td>NaN</td>\n",
       "    </tr>\n",
       "    <tr>\n",
       "      <th>75%</th>\n",
       "      <td>1.004430e+06</td>\n",
       "      <td>43.000000</td>\n",
       "      <td>1.000000</td>\n",
       "      <td>3.000000</td>\n",
       "      <td>1.269900e+04</td>\n",
       "      <td>NaN</td>\n",
       "      <td>NaN</td>\n",
       "    </tr>\n",
       "    <tr>\n",
       "      <th>max</th>\n",
       "      <td>1.100505e+07</td>\n",
       "      <td>92.000000</td>\n",
       "      <td>1.000000</td>\n",
       "      <td>40.000000</td>\n",
       "      <td>8.760212e+08</td>\n",
       "      <td>NaN</td>\n",
       "      <td>NaN</td>\n",
       "    </tr>\n",
       "  </tbody>\n",
       "</table>\n",
       "</div>"
      ],
      "text/plain": [
       "            User_ID           Age  Marital_Status        Orders        Amount  \\\n",
       "count  1.125400e+04  11254.000000    11254.000000  11254.000000  1.125400e+04   \n",
       "mean   1.013664e+06     35.424382        0.419762      2.494135  1.916697e+05   \n",
       "std    3.263686e+05     12.753259        0.493542      1.186925  1.072906e+07   \n",
       "min    1.000001e+06     12.000000        0.000000      1.000000  1.880000e+02   \n",
       "25%    1.001496e+06     27.000000        0.000000      2.000000  5.445000e+03   \n",
       "50%    1.003064e+06     33.000000        0.000000      2.000000  8.113000e+03   \n",
       "75%    1.004430e+06     43.000000        1.000000      3.000000  1.269900e+04   \n",
       "max    1.100505e+07     92.000000        1.000000     40.000000  8.760212e+08   \n",
       "\n",
       "       Status  unnamed1  \n",
       "count     0.0       0.0  \n",
       "mean      NaN       NaN  \n",
       "std       NaN       NaN  \n",
       "min       NaN       NaN  \n",
       "25%       NaN       NaN  \n",
       "50%       NaN       NaN  \n",
       "75%       NaN       NaN  \n",
       "max       NaN       NaN  "
      ]
     },
     "execution_count": 47,
     "metadata": {},
     "output_type": "execute_result"
    }
   ],
   "source": [
    "df.describe()"
   ]
  },
  {
   "cell_type": "code",
   "execution_count": 48,
   "id": "43f87f8d",
   "metadata": {},
   "outputs": [
    {
     "data": {
      "text/plain": [
       "Text(0.5, 1.0, \"Box plot for 'Amount'\")"
      ]
     },
     "execution_count": 48,
     "metadata": {},
     "output_type": "execute_result"
    },
    {
     "data": {
      "image/png": "[encoded data removed]",
      "text/plain": [
       "<Figure size 1000x600 with 2 Axes>"
      ]
     },
     "metadata": {},
     "output_type": "display_data"
    }
   ],
   "source": [
    "#visualization of outlier\n",
    "fig,ax = plt.subplots(1,2,figsize = (10,6))\n",
    "sns.boxplot(data = df['Orders'] , ax = ax[0])\n",
    "ax[0].set_title(\"Box plot for 'Order'\")\n",
    "\n",
    "sns.boxplot(data = df['Amount'] , ax = ax[1])\n",
    "ax[1].set_title(\"Box plot for 'Amount'\")"
   ]
  },
  {
   "cell_type": "markdown",
   "id": "bdc62fb2",
   "metadata": {},
   "source": [
    "#### Order"
   ]
  },
  {
   "cell_type": "code",
   "execution_count": 49,
   "id": "e77d7b9f",
   "metadata": {},
   "outputs": [],
   "source": [
    "#Quartile\n",
    "Q1_order = np.quantile(df['Orders'], 0.25)\n",
    "Q3_order = np.quantile(df['Orders'], 0.75)\n",
    "IQR_order = Q3_order - Q1_order\n",
    "lower_limit_order = Q1_order - 1.5*IQR_order\n",
    "upper_limit_order = Q3_order + 1.5*IQR_order"
   ]
  },
  {
   "cell_type": "code",
   "execution_count": 50,
   "id": "da7caf40",
   "metadata": {},
   "outputs": [
    {
     "name": "stdout",
     "output_type": "stream",
     "text": [
      "0.5\n",
      "4.5\n"
     ]
    }
   ],
   "source": [
    "print(lower_limit_order)\n",
    "print(upper_limit_order)"
   ]
  },
  {
   "cell_type": "code",
   "execution_count": 51,
   "id": "8a0849a3",
   "metadata": {},
   "outputs": [
    {
     "data": {
      "text/html": [
       "<div>\n",
       "<style scoped>\n",
       "    .dataframe tbody tr th:only-of-type {\n",
       "        vertical-align: middle;\n",
       "    }\n",
       "\n",
       "    .dataframe tbody tr th {\n",
       "        vertical-align: top;\n",
       "    }\n",
       "\n",
       "    .dataframe thead th {\n",
       "        text-align: right;\n",
       "    }\n",
       "</style>\n",
       "<table border=\"1\" class=\"dataframe\">\n",
       "  <thead>\n",
       "    <tr style=\"text-align: right;\">\n",
       "      <th></th>\n",
       "      <th>User_ID</th>\n",
       "      <th>Cust_name</th>\n",
       "      <th>Product_ID</th>\n",
       "      <th>Gender</th>\n",
       "      <th>Age Group</th>\n",
       "      <th>Age</th>\n",
       "      <th>Marital_Status</th>\n",
       "      <th>State</th>\n",
       "      <th>Zone</th>\n",
       "      <th>Occupation</th>\n",
       "      <th>Product_Category</th>\n",
       "      <th>Orders</th>\n",
       "      <th>Amount</th>\n",
       "      <th>Status</th>\n",
       "      <th>unnamed1</th>\n",
       "      <th>Marraige_Status</th>\n",
       "    </tr>\n",
       "  </thead>\n",
       "  <tbody>\n",
       "    <tr>\n",
       "      <th>0</th>\n",
       "      <td>1002903.0</td>\n",
       "      <td>Sanskriti</td>\n",
       "      <td>P00125942</td>\n",
       "      <td>F</td>\n",
       "      <td>26-35</td>\n",
       "      <td>28.0</td>\n",
       "      <td>0.0</td>\n",
       "      <td>Maharashtra</td>\n",
       "      <td>Western</td>\n",
       "      <td>Healthcare</td>\n",
       "      <td>Auto</td>\n",
       "      <td>1.0</td>\n",
       "      <td>23952.0</td>\n",
       "      <td>NaN</td>\n",
       "      <td>NaN</td>\n",
       "      <td>Unmarried</td>\n",
       "    </tr>\n",
       "    <tr>\n",
       "      <th>1</th>\n",
       "      <td>1000732.0</td>\n",
       "      <td>Kartik</td>\n",
       "      <td>P00110942</td>\n",
       "      <td>F</td>\n",
       "      <td>26-35</td>\n",
       "      <td>35.0</td>\n",
       "      <td>1.0</td>\n",
       "      <td>Andhra Pradesh</td>\n",
       "      <td>Southern</td>\n",
       "      <td>Govt</td>\n",
       "      <td>Auto</td>\n",
       "      <td>3.0</td>\n",
       "      <td>23934.0</td>\n",
       "      <td>NaN</td>\n",
       "      <td>NaN</td>\n",
       "      <td>Married</td>\n",
       "    </tr>\n",
       "    <tr>\n",
       "      <th>2</th>\n",
       "      <td>1001990.0</td>\n",
       "      <td>Bindu</td>\n",
       "      <td>P00118542</td>\n",
       "      <td>F</td>\n",
       "      <td>26-35</td>\n",
       "      <td>35.0</td>\n",
       "      <td>1.0</td>\n",
       "      <td>Uttar Pradesh</td>\n",
       "      <td>Central</td>\n",
       "      <td>Automobile</td>\n",
       "      <td>Auto</td>\n",
       "      <td>3.0</td>\n",
       "      <td>23924.0</td>\n",
       "      <td>NaN</td>\n",
       "      <td>NaN</td>\n",
       "      <td>Married</td>\n",
       "    </tr>\n",
       "    <tr>\n",
       "      <th>3</th>\n",
       "      <td>1001425.0</td>\n",
       "      <td>Sudevi</td>\n",
       "      <td>P00237842</td>\n",
       "      <td>M</td>\n",
       "      <td>0-17</td>\n",
       "      <td>16.0</td>\n",
       "      <td>0.0</td>\n",
       "      <td>Karnataka</td>\n",
       "      <td>Southern</td>\n",
       "      <td>Construction</td>\n",
       "      <td>Auto</td>\n",
       "      <td>2.0</td>\n",
       "      <td>23912.0</td>\n",
       "      <td>NaN</td>\n",
       "      <td>NaN</td>\n",
       "      <td>Unmarried</td>\n",
       "    </tr>\n",
       "    <tr>\n",
       "      <th>4</th>\n",
       "      <td>1000588.0</td>\n",
       "      <td>Joni</td>\n",
       "      <td>P00057942</td>\n",
       "      <td>M</td>\n",
       "      <td>26-35</td>\n",
       "      <td>28.0</td>\n",
       "      <td>1.0</td>\n",
       "      <td>Gujarat</td>\n",
       "      <td>Western</td>\n",
       "      <td>Food Processing</td>\n",
       "      <td>Auto</td>\n",
       "      <td>2.0</td>\n",
       "      <td>23877.0</td>\n",
       "      <td>NaN</td>\n",
       "      <td>NaN</td>\n",
       "      <td>Married</td>\n",
       "    </tr>\n",
       "  </tbody>\n",
       "</table>\n",
       "</div>"
      ],
      "text/plain": [
       "     User_ID  Cust_name Product_ID Gender Age Group   Age  Marital_Status  \\\n",
       "0  1002903.0  Sanskriti  P00125942      F     26-35  28.0             0.0   \n",
       "1  1000732.0     Kartik  P00110942      F     26-35  35.0             1.0   \n",
       "2  1001990.0      Bindu  P00118542      F     26-35  35.0             1.0   \n",
       "3  1001425.0     Sudevi  P00237842      M      0-17  16.0             0.0   \n",
       "4  1000588.0       Joni  P00057942      M     26-35  28.0             1.0   \n",
       "\n",
       "            State      Zone       Occupation Product_Category  Orders  \\\n",
       "0     Maharashtra   Western       Healthcare             Auto     1.0   \n",
       "1  Andhra Pradesh  Southern             Govt             Auto     3.0   \n",
       "2   Uttar Pradesh   Central       Automobile             Auto     3.0   \n",
       "3       Karnataka  Southern     Construction             Auto     2.0   \n",
       "4         Gujarat   Western  Food Processing             Auto     2.0   \n",
       "\n",
       "    Amount  Status  unnamed1 Marraige_Status  \n",
       "0  23952.0     NaN       NaN       Unmarried  \n",
       "1  23934.0     NaN       NaN         Married  \n",
       "2  23924.0     NaN       NaN         Married  \n",
       "3  23912.0     NaN       NaN       Unmarried  \n",
       "4  23877.0     NaN       NaN         Married  "
      ]
     },
     "execution_count": 51,
     "metadata": {},
     "output_type": "execute_result"
    }
   ],
   "source": [
    "# Removing the outliers\n",
    "df = df[(df['Orders'] > lower_limit_order) & (df['Orders'] < upper_limit_order)]\n",
    "df.head()"
   ]
  },
  {
   "cell_type": "code",
   "execution_count": 52,
   "id": "a05f9d83",
   "metadata": {},
   "outputs": [
    {
     "data": {
      "text/html": [
       "<div>\n",
       "<style scoped>\n",
       "    .dataframe tbody tr th:only-of-type {\n",
       "        vertical-align: middle;\n",
       "    }\n",
       "\n",
       "    .dataframe tbody tr th {\n",
       "        vertical-align: top;\n",
       "    }\n",
       "\n",
       "    .dataframe thead th {\n",
       "        text-align: right;\n",
       "    }\n",
       "</style>\n",
       "<table border=\"1\" class=\"dataframe\">\n",
       "  <thead>\n",
       "    <tr style=\"text-align: right;\">\n",
       "      <th></th>\n",
       "      <th>User_ID</th>\n",
       "      <th>Age</th>\n",
       "      <th>Marital_Status</th>\n",
       "      <th>Orders</th>\n",
       "      <th>Amount</th>\n",
       "      <th>Status</th>\n",
       "      <th>unnamed1</th>\n",
       "    </tr>\n",
       "  </thead>\n",
       "  <tbody>\n",
       "    <tr>\n",
       "      <th>count</th>\n",
       "      <td>1.125200e+04</td>\n",
       "      <td>11252.000000</td>\n",
       "      <td>11252.000000</td>\n",
       "      <td>11252.000000</td>\n",
       "      <td>1.125200e+04</td>\n",
       "      <td>0.0</td>\n",
       "      <td>0.0</td>\n",
       "    </tr>\n",
       "    <tr>\n",
       "      <th>mean</th>\n",
       "      <td>1.011889e+06</td>\n",
       "      <td>35.423303</td>\n",
       "      <td>0.419836</td>\n",
       "      <td>2.488891</td>\n",
       "      <td>1.917000e+05</td>\n",
       "      <td>NaN</td>\n",
       "      <td>NaN</td>\n",
       "    </tr>\n",
       "    <tr>\n",
       "      <th>std</th>\n",
       "      <td>2.979871e+05</td>\n",
       "      <td>12.753743</td>\n",
       "      <td>0.493554</td>\n",
       "      <td>1.114844</td>\n",
       "      <td>1.073001e+07</td>\n",
       "      <td>NaN</td>\n",
       "      <td>NaN</td>\n",
       "    </tr>\n",
       "    <tr>\n",
       "      <th>min</th>\n",
       "      <td>1.000001e+06</td>\n",
       "      <td>12.000000</td>\n",
       "      <td>0.000000</td>\n",
       "      <td>1.000000</td>\n",
       "      <td>1.880000e+02</td>\n",
       "      <td>NaN</td>\n",
       "      <td>NaN</td>\n",
       "    </tr>\n",
       "    <tr>\n",
       "      <th>25%</th>\n",
       "      <td>1.001496e+06</td>\n",
       "      <td>27.000000</td>\n",
       "      <td>0.000000</td>\n",
       "      <td>2.000000</td>\n",
       "      <td>5.444750e+03</td>\n",
       "      <td>NaN</td>\n",
       "      <td>NaN</td>\n",
       "    </tr>\n",
       "    <tr>\n",
       "      <th>50%</th>\n",
       "      <td>1.003064e+06</td>\n",
       "      <td>33.000000</td>\n",
       "      <td>0.000000</td>\n",
       "      <td>2.000000</td>\n",
       "      <td>8.113000e+03</td>\n",
       "      <td>NaN</td>\n",
       "      <td>NaN</td>\n",
       "    </tr>\n",
       "    <tr>\n",
       "      <th>75%</th>\n",
       "      <td>1.004429e+06</td>\n",
       "      <td>43.000000</td>\n",
       "      <td>1.000000</td>\n",
       "      <td>3.000000</td>\n",
       "      <td>1.269900e+04</td>\n",
       "      <td>NaN</td>\n",
       "      <td>NaN</td>\n",
       "    </tr>\n",
       "    <tr>\n",
       "      <th>max</th>\n",
       "      <td>1.100505e+07</td>\n",
       "      <td>92.000000</td>\n",
       "      <td>1.000000</td>\n",
       "      <td>4.000000</td>\n",
       "      <td>8.760212e+08</td>\n",
       "      <td>NaN</td>\n",
       "      <td>NaN</td>\n",
       "    </tr>\n",
       "  </tbody>\n",
       "</table>\n",
       "</div>"
      ],
      "text/plain": [
       "            User_ID           Age  Marital_Status        Orders        Amount  \\\n",
       "count  1.125200e+04  11252.000000    11252.000000  11252.000000  1.125200e+04   \n",
       "mean   1.011889e+06     35.423303        0.419836      2.488891  1.917000e+05   \n",
       "std    2.979871e+05     12.753743        0.493554      1.114844  1.073001e+07   \n",
       "min    1.000001e+06     12.000000        0.000000      1.000000  1.880000e+02   \n",
       "25%    1.001496e+06     27.000000        0.000000      2.000000  5.444750e+03   \n",
       "50%    1.003064e+06     33.000000        0.000000      2.000000  8.113000e+03   \n",
       "75%    1.004429e+06     43.000000        1.000000      3.000000  1.269900e+04   \n",
       "max    1.100505e+07     92.000000        1.000000      4.000000  8.760212e+08   \n",
       "\n",
       "       Status  unnamed1  \n",
       "count     0.0       0.0  \n",
       "mean      NaN       NaN  \n",
       "std       NaN       NaN  \n",
       "min       NaN       NaN  \n",
       "25%       NaN       NaN  \n",
       "50%       NaN       NaN  \n",
       "75%       NaN       NaN  \n",
       "max       NaN       NaN  "
      ]
     },
     "execution_count": 52,
     "metadata": {},
     "output_type": "execute_result"
    }
   ],
   "source": [
    "df.describe()"
   ]
  },
  {
   "cell_type": "code",
   "execution_count": 53,
   "id": "db1d3703",
   "metadata": {},
   "outputs": [
    {
     "name": "stdout",
     "output_type": "stream",
     "text": [
      "-5436.625\n",
      "23580.375\n"
     ]
    }
   ],
   "source": [
    "# Quartile\n",
    "Q1_amount = np.quantile(df['Amount'], 0.25)\n",
    "Q3_amount = np.quantile(df['Amount'], 0.75)\n",
    "IQR_amount = Q3_amount - Q1_amount\n",
    "#IQR_order\n",
    "lower_limit_amount = Q1_amount - 1.5*IQR_amount\n",
    "upper_limit_amount = Q3_amount + 1.5*IQR_amount\n",
    "\n",
    "print(lower_limit_amount)\n",
    "print(upper_limit_amount)"
   ]
  },
  {
   "cell_type": "code",
   "execution_count": 54,
   "id": "034845cb",
   "metadata": {},
   "outputs": [
    {
     "data": {
      "text/html": [
       "<div>\n",
       "<style scoped>\n",
       "    .dataframe tbody tr th:only-of-type {\n",
       "        vertical-align: middle;\n",
       "    }\n",
       "\n",
       "    .dataframe tbody tr th {\n",
       "        vertical-align: top;\n",
       "    }\n",
       "\n",
       "    .dataframe thead th {\n",
       "        text-align: right;\n",
       "    }\n",
       "</style>\n",
       "<table border=\"1\" class=\"dataframe\">\n",
       "  <thead>\n",
       "    <tr style=\"text-align: right;\">\n",
       "      <th></th>\n",
       "      <th>User_ID</th>\n",
       "      <th>Cust_name</th>\n",
       "      <th>Product_ID</th>\n",
       "      <th>Gender</th>\n",
       "      <th>Age Group</th>\n",
       "      <th>Age</th>\n",
       "      <th>Marital_Status</th>\n",
       "      <th>State</th>\n",
       "      <th>Zone</th>\n",
       "      <th>Occupation</th>\n",
       "      <th>Product_Category</th>\n",
       "      <th>Orders</th>\n",
       "      <th>Amount</th>\n",
       "      <th>Status</th>\n",
       "      <th>unnamed1</th>\n",
       "      <th>Marraige_Status</th>\n",
       "    </tr>\n",
       "  </thead>\n",
       "  <tbody>\n",
       "    <tr>\n",
       "      <th>18</th>\n",
       "      <td>1001883.0</td>\n",
       "      <td>Praneet</td>\n",
       "      <td>P00029842</td>\n",
       "      <td>M</td>\n",
       "      <td>26-35</td>\n",
       "      <td>54.0</td>\n",
       "      <td>1.0</td>\n",
       "      <td>Uttar Pradesh</td>\n",
       "      <td>Central</td>\n",
       "      <td>Hospitality</td>\n",
       "      <td>Auto</td>\n",
       "      <td>1.0</td>\n",
       "      <td>23568.0</td>\n",
       "      <td>NaN</td>\n",
       "      <td>NaN</td>\n",
       "      <td>Married</td>\n",
       "    </tr>\n",
       "    <tr>\n",
       "      <th>19</th>\n",
       "      <td>1001883.0</td>\n",
       "      <td>Praneet</td>\n",
       "      <td>P00029842</td>\n",
       "      <td>M</td>\n",
       "      <td>26-35</td>\n",
       "      <td>54.0</td>\n",
       "      <td>1.0</td>\n",
       "      <td>Uttar Pradesh</td>\n",
       "      <td>Central</td>\n",
       "      <td>Hospitality</td>\n",
       "      <td>Auto</td>\n",
       "      <td>1.0</td>\n",
       "      <td>23568.0</td>\n",
       "      <td>NaN</td>\n",
       "      <td>NaN</td>\n",
       "      <td>Married</td>\n",
       "    </tr>\n",
       "    <tr>\n",
       "      <th>20</th>\n",
       "      <td>1000113.0</td>\n",
       "      <td>Ellis</td>\n",
       "      <td>P00180642</td>\n",
       "      <td>F</td>\n",
       "      <td>26-35</td>\n",
       "      <td>19.0</td>\n",
       "      <td>1.0</td>\n",
       "      <td>Andhra Pradesh</td>\n",
       "      <td>Southern</td>\n",
       "      <td>Govt</td>\n",
       "      <td>Auto</td>\n",
       "      <td>4.0</td>\n",
       "      <td>23546.0</td>\n",
       "      <td>NaN</td>\n",
       "      <td>NaN</td>\n",
       "      <td>Married</td>\n",
       "    </tr>\n",
       "    <tr>\n",
       "      <th>21</th>\n",
       "      <td>1000416.0</td>\n",
       "      <td>Hrisheekesh</td>\n",
       "      <td>P00181842</td>\n",
       "      <td>F</td>\n",
       "      <td>26-35</td>\n",
       "      <td>46.0</td>\n",
       "      <td>1.0</td>\n",
       "      <td>Uttar Pradesh</td>\n",
       "      <td>Central</td>\n",
       "      <td>Banking</td>\n",
       "      <td>Auto</td>\n",
       "      <td>2.0</td>\n",
       "      <td>23525.0</td>\n",
       "      <td>NaN</td>\n",
       "      <td>NaN</td>\n",
       "      <td>Married</td>\n",
       "    </tr>\n",
       "    <tr>\n",
       "      <th>22</th>\n",
       "      <td>1005256.0</td>\n",
       "      <td>Grant</td>\n",
       "      <td>P00101742</td>\n",
       "      <td>F</td>\n",
       "      <td>26-35</td>\n",
       "      <td>30.0</td>\n",
       "      <td>0.0</td>\n",
       "      <td>Andhra Pradesh</td>\n",
       "      <td>Southern</td>\n",
       "      <td>IT Sector</td>\n",
       "      <td>Auto</td>\n",
       "      <td>1.0</td>\n",
       "      <td>23518.0</td>\n",
       "      <td>NaN</td>\n",
       "      <td>NaN</td>\n",
       "      <td>Unmarried</td>\n",
       "    </tr>\n",
       "  </tbody>\n",
       "</table>\n",
       "</div>"
      ],
      "text/plain": [
       "      User_ID    Cust_name Product_ID Gender Age Group   Age  Marital_Status  \\\n",
       "18  1001883.0      Praneet  P00029842      M     26-35  54.0             1.0   \n",
       "19  1001883.0      Praneet  P00029842      M     26-35  54.0             1.0   \n",
       "20  1000113.0        Ellis  P00180642      F     26-35  19.0             1.0   \n",
       "21  1000416.0  Hrisheekesh  P00181842      F     26-35  46.0             1.0   \n",
       "22  1005256.0        Grant  P00101742      F     26-35  30.0             0.0   \n",
       "\n",
       "             State      Zone   Occupation Product_Category  Orders   Amount  \\\n",
       "18   Uttar Pradesh   Central  Hospitality             Auto     1.0  23568.0   \n",
       "19   Uttar Pradesh   Central  Hospitality             Auto     1.0  23568.0   \n",
       "20  Andhra Pradesh  Southern         Govt             Auto     4.0  23546.0   \n",
       "21   Uttar Pradesh   Central      Banking             Auto     2.0  23525.0   \n",
       "22  Andhra Pradesh  Southern    IT Sector             Auto     1.0  23518.0   \n",
       "\n",
       "    Status  unnamed1 Marraige_Status  \n",
       "18     NaN       NaN         Married  \n",
       "19     NaN       NaN         Married  \n",
       "20     NaN       NaN         Married  \n",
       "21     NaN       NaN         Married  \n",
       "22     NaN       NaN       Unmarried  "
      ]
     },
     "execution_count": 54,
     "metadata": {},
     "output_type": "execute_result"
    }
   ],
   "source": [
    "# Removing the outliers\n",
    "df = df[(df['Amount'] > lower_limit_amount) & (df['Amount'] < upper_limit_amount)]\n",
    "df.head()"
   ]
  },
  {
   "cell_type": "code",
   "execution_count": 55,
   "id": "29819b05",
   "metadata": {},
   "outputs": [
    {
     "data": {
      "text/html": [
       "<div>\n",
       "<style scoped>\n",
       "    .dataframe tbody tr th:only-of-type {\n",
       "        vertical-align: middle;\n",
       "    }\n",
       "\n",
       "    .dataframe tbody tr th {\n",
       "        vertical-align: top;\n",
       "    }\n",
       "\n",
       "    .dataframe thead th {\n",
       "        text-align: right;\n",
       "    }\n",
       "</style>\n",
       "<table border=\"1\" class=\"dataframe\">\n",
       "  <thead>\n",
       "    <tr style=\"text-align: right;\">\n",
       "      <th></th>\n",
       "      <th>User_ID</th>\n",
       "      <th>Age</th>\n",
       "      <th>Marital_Status</th>\n",
       "      <th>Orders</th>\n",
       "      <th>Amount</th>\n",
       "      <th>Status</th>\n",
       "      <th>unnamed1</th>\n",
       "    </tr>\n",
       "  </thead>\n",
       "  <tbody>\n",
       "    <tr>\n",
       "      <th>count</th>\n",
       "      <td>1.123400e+04</td>\n",
       "      <td>11234.000000</td>\n",
       "      <td>11234.000000</td>\n",
       "      <td>11234.000000</td>\n",
       "      <td>11234.000000</td>\n",
       "      <td>0.0</td>\n",
       "      <td>0.0</td>\n",
       "    </tr>\n",
       "    <tr>\n",
       "      <th>mean</th>\n",
       "      <td>1.007453e+06</td>\n",
       "      <td>35.433772</td>\n",
       "      <td>0.419708</td>\n",
       "      <td>2.489496</td>\n",
       "      <td>9452.764638</td>\n",
       "      <td>NaN</td>\n",
       "      <td>NaN</td>\n",
       "    </tr>\n",
       "    <tr>\n",
       "      <th>std</th>\n",
       "      <td>2.109026e+05</td>\n",
       "      <td>12.759432</td>\n",
       "      <td>0.493533</td>\n",
       "      <td>1.114845</td>\n",
       "      <td>5213.784648</td>\n",
       "      <td>NaN</td>\n",
       "      <td>NaN</td>\n",
       "    </tr>\n",
       "    <tr>\n",
       "      <th>min</th>\n",
       "      <td>1.000001e+06</td>\n",
       "      <td>12.000000</td>\n",
       "      <td>0.000000</td>\n",
       "      <td>1.000000</td>\n",
       "      <td>188.000000</td>\n",
       "      <td>NaN</td>\n",
       "      <td>NaN</td>\n",
       "    </tr>\n",
       "    <tr>\n",
       "      <th>25%</th>\n",
       "      <td>1.001496e+06</td>\n",
       "      <td>27.000000</td>\n",
       "      <td>0.000000</td>\n",
       "      <td>2.000000</td>\n",
       "      <td>5443.000000</td>\n",
       "      <td>NaN</td>\n",
       "      <td>NaN</td>\n",
       "    </tr>\n",
       "    <tr>\n",
       "      <th>50%</th>\n",
       "      <td>1.003064e+06</td>\n",
       "      <td>33.000000</td>\n",
       "      <td>0.000000</td>\n",
       "      <td>2.000000</td>\n",
       "      <td>8109.500000</td>\n",
       "      <td>NaN</td>\n",
       "      <td>NaN</td>\n",
       "    </tr>\n",
       "    <tr>\n",
       "      <th>75%</th>\n",
       "      <td>1.004429e+06</td>\n",
       "      <td>43.000000</td>\n",
       "      <td>1.000000</td>\n",
       "      <td>3.000000</td>\n",
       "      <td>12681.500000</td>\n",
       "      <td>NaN</td>\n",
       "      <td>NaN</td>\n",
       "    </tr>\n",
       "    <tr>\n",
       "      <th>max</th>\n",
       "      <td>1.100173e+07</td>\n",
       "      <td>92.000000</td>\n",
       "      <td>1.000000</td>\n",
       "      <td>4.000000</td>\n",
       "      <td>23568.000000</td>\n",
       "      <td>NaN</td>\n",
       "      <td>NaN</td>\n",
       "    </tr>\n",
       "  </tbody>\n",
       "</table>\n",
       "</div>"
      ],
      "text/plain": [
       "            User_ID           Age  Marital_Status        Orders        Amount  \\\n",
       "count  1.123400e+04  11234.000000    11234.000000  11234.000000  11234.000000   \n",
       "mean   1.007453e+06     35.433772        0.419708      2.489496   9452.764638   \n",
       "std    2.109026e+05     12.759432        0.493533      1.114845   5213.784648   \n",
       "min    1.000001e+06     12.000000        0.000000      1.000000    188.000000   \n",
       "25%    1.001496e+06     27.000000        0.000000      2.000000   5443.000000   \n",
       "50%    1.003064e+06     33.000000        0.000000      2.000000   8109.500000   \n",
       "75%    1.004429e+06     43.000000        1.000000      3.000000  12681.500000   \n",
       "max    1.100173e+07     92.000000        1.000000      4.000000  23568.000000   \n",
       "\n",
       "       Status  unnamed1  \n",
       "count     0.0       0.0  \n",
       "mean      NaN       NaN  \n",
       "std       NaN       NaN  \n",
       "min       NaN       NaN  \n",
       "25%       NaN       NaN  \n",
       "50%       NaN       NaN  \n",
       "75%       NaN       NaN  \n",
       "max       NaN       NaN  "
      ]
     },
     "execution_count": 55,
     "metadata": {},
     "output_type": "execute_result"
    }
   ],
   "source": [
    "df.describe()"
   ]
  },
  {
   "cell_type": "markdown",
   "id": "f848150e",
   "metadata": {},
   "source": [
    "### Exploratory Data Analysis"
   ]
  },
  {
   "cell_type": "markdown",
   "id": "1f1b822e",
   "metadata": {},
   "source": [
    "#### Statistical Analysis "
   ]
  },
  {
   "cell_type": "code",
   "execution_count": 56,
   "id": "536b12b8",
   "metadata": {},
   "outputs": [
    {
     "data": {
      "text/html": [
       "<div>\n",
       "<style scoped>\n",
       "    .dataframe tbody tr th:only-of-type {\n",
       "        vertical-align: middle;\n",
       "    }\n",
       "\n",
       "    .dataframe tbody tr th {\n",
       "        vertical-align: top;\n",
       "    }\n",
       "\n",
       "    .dataframe thead th {\n",
       "        text-align: right;\n",
       "    }\n",
       "</style>\n",
       "<table border=\"1\" class=\"dataframe\">\n",
       "  <thead>\n",
       "    <tr style=\"text-align: right;\">\n",
       "      <th></th>\n",
       "      <th>User_ID</th>\n",
       "      <th>Cust_name</th>\n",
       "      <th>Product_ID</th>\n",
       "      <th>Gender</th>\n",
       "      <th>Age Group</th>\n",
       "      <th>Age</th>\n",
       "      <th>Marital_Status</th>\n",
       "      <th>State</th>\n",
       "      <th>Zone</th>\n",
       "      <th>Occupation</th>\n",
       "      <th>Product_Category</th>\n",
       "      <th>Orders</th>\n",
       "      <th>Amount</th>\n",
       "      <th>Status</th>\n",
       "      <th>unnamed1</th>\n",
       "      <th>Marraige_Status</th>\n",
       "    </tr>\n",
       "  </thead>\n",
       "  <tbody>\n",
       "    <tr>\n",
       "      <th>18</th>\n",
       "      <td>1001883.0</td>\n",
       "      <td>Praneet</td>\n",
       "      <td>P00029842</td>\n",
       "      <td>M</td>\n",
       "      <td>26-35</td>\n",
       "      <td>54.0</td>\n",
       "      <td>1.0</td>\n",
       "      <td>Uttar Pradesh</td>\n",
       "      <td>Central</td>\n",
       "      <td>Hospitality</td>\n",
       "      <td>Auto</td>\n",
       "      <td>1.0</td>\n",
       "      <td>23568.0</td>\n",
       "      <td>NaN</td>\n",
       "      <td>NaN</td>\n",
       "      <td>Married</td>\n",
       "    </tr>\n",
       "    <tr>\n",
       "      <th>19</th>\n",
       "      <td>1001883.0</td>\n",
       "      <td>Praneet</td>\n",
       "      <td>P00029842</td>\n",
       "      <td>M</td>\n",
       "      <td>26-35</td>\n",
       "      <td>54.0</td>\n",
       "      <td>1.0</td>\n",
       "      <td>Uttar Pradesh</td>\n",
       "      <td>Central</td>\n",
       "      <td>Hospitality</td>\n",
       "      <td>Auto</td>\n",
       "      <td>1.0</td>\n",
       "      <td>23568.0</td>\n",
       "      <td>NaN</td>\n",
       "      <td>NaN</td>\n",
       "      <td>Married</td>\n",
       "    </tr>\n",
       "    <tr>\n",
       "      <th>20</th>\n",
       "      <td>1000113.0</td>\n",
       "      <td>Ellis</td>\n",
       "      <td>P00180642</td>\n",
       "      <td>F</td>\n",
       "      <td>26-35</td>\n",
       "      <td>19.0</td>\n",
       "      <td>1.0</td>\n",
       "      <td>Andhra Pradesh</td>\n",
       "      <td>Southern</td>\n",
       "      <td>Govt</td>\n",
       "      <td>Auto</td>\n",
       "      <td>4.0</td>\n",
       "      <td>23546.0</td>\n",
       "      <td>NaN</td>\n",
       "      <td>NaN</td>\n",
       "      <td>Married</td>\n",
       "    </tr>\n",
       "    <tr>\n",
       "      <th>21</th>\n",
       "      <td>1000416.0</td>\n",
       "      <td>Hrisheekesh</td>\n",
       "      <td>P00181842</td>\n",
       "      <td>F</td>\n",
       "      <td>26-35</td>\n",
       "      <td>46.0</td>\n",
       "      <td>1.0</td>\n",
       "      <td>Uttar Pradesh</td>\n",
       "      <td>Central</td>\n",
       "      <td>Banking</td>\n",
       "      <td>Auto</td>\n",
       "      <td>2.0</td>\n",
       "      <td>23525.0</td>\n",
       "      <td>NaN</td>\n",
       "      <td>NaN</td>\n",
       "      <td>Married</td>\n",
       "    </tr>\n",
       "    <tr>\n",
       "      <th>22</th>\n",
       "      <td>1005256.0</td>\n",
       "      <td>Grant</td>\n",
       "      <td>P00101742</td>\n",
       "      <td>F</td>\n",
       "      <td>26-35</td>\n",
       "      <td>30.0</td>\n",
       "      <td>0.0</td>\n",
       "      <td>Andhra Pradesh</td>\n",
       "      <td>Southern</td>\n",
       "      <td>IT Sector</td>\n",
       "      <td>Auto</td>\n",
       "      <td>1.0</td>\n",
       "      <td>23518.0</td>\n",
       "      <td>NaN</td>\n",
       "      <td>NaN</td>\n",
       "      <td>Unmarried</td>\n",
       "    </tr>\n",
       "  </tbody>\n",
       "</table>\n",
       "</div>"
      ],
      "text/plain": [
       "      User_ID    Cust_name Product_ID Gender Age Group   Age  Marital_Status  \\\n",
       "18  1001883.0      Praneet  P00029842      M     26-35  54.0             1.0   \n",
       "19  1001883.0      Praneet  P00029842      M     26-35  54.0             1.0   \n",
       "20  1000113.0        Ellis  P00180642      F     26-35  19.0             1.0   \n",
       "21  1000416.0  Hrisheekesh  P00181842      F     26-35  46.0             1.0   \n",
       "22  1005256.0        Grant  P00101742      F     26-35  30.0             0.0   \n",
       "\n",
       "             State      Zone   Occupation Product_Category  Orders   Amount  \\\n",
       "18   Uttar Pradesh   Central  Hospitality             Auto     1.0  23568.0   \n",
       "19   Uttar Pradesh   Central  Hospitality             Auto     1.0  23568.0   \n",
       "20  Andhra Pradesh  Southern         Govt             Auto     4.0  23546.0   \n",
       "21   Uttar Pradesh   Central      Banking             Auto     2.0  23525.0   \n",
       "22  Andhra Pradesh  Southern    IT Sector             Auto     1.0  23518.0   \n",
       "\n",
       "    Status  unnamed1 Marraige_Status  \n",
       "18     NaN       NaN         Married  \n",
       "19     NaN       NaN         Married  \n",
       "20     NaN       NaN         Married  \n",
       "21     NaN       NaN         Married  \n",
       "22     NaN       NaN       Unmarried  "
      ]
     },
     "execution_count": 56,
     "metadata": {},
     "output_type": "execute_result"
    }
   ],
   "source": [
    "df.head()"
   ]
  },
  {
   "cell_type": "code",
   "execution_count": 57,
   "id": "590f70d3",
   "metadata": {},
   "outputs": [
    {
     "data": {
      "text/html": [
       "<div>\n",
       "<style scoped>\n",
       "    .dataframe tbody tr th:only-of-type {\n",
       "        vertical-align: middle;\n",
       "    }\n",
       "\n",
       "    .dataframe tbody tr th {\n",
       "        vertical-align: top;\n",
       "    }\n",
       "\n",
       "    .dataframe thead th {\n",
       "        text-align: right;\n",
       "    }\n",
       "</style>\n",
       "<table border=\"1\" class=\"dataframe\">\n",
       "  <thead>\n",
       "    <tr style=\"text-align: right;\">\n",
       "      <th></th>\n",
       "      <th>User_ID</th>\n",
       "      <th>Age</th>\n",
       "      <th>Marital_Status</th>\n",
       "      <th>Orders</th>\n",
       "      <th>Amount</th>\n",
       "      <th>Status</th>\n",
       "      <th>unnamed1</th>\n",
       "    </tr>\n",
       "  </thead>\n",
       "  <tbody>\n",
       "    <tr>\n",
       "      <th>count</th>\n",
       "      <td>1.123400e+04</td>\n",
       "      <td>11234.000000</td>\n",
       "      <td>11234.000000</td>\n",
       "      <td>11234.000000</td>\n",
       "      <td>11234.000000</td>\n",
       "      <td>0.0</td>\n",
       "      <td>0.0</td>\n",
       "    </tr>\n",
       "    <tr>\n",
       "      <th>mean</th>\n",
       "      <td>1.007453e+06</td>\n",
       "      <td>35.433772</td>\n",
       "      <td>0.419708</td>\n",
       "      <td>2.489496</td>\n",
       "      <td>9452.764638</td>\n",
       "      <td>NaN</td>\n",
       "      <td>NaN</td>\n",
       "    </tr>\n",
       "    <tr>\n",
       "      <th>std</th>\n",
       "      <td>2.109026e+05</td>\n",
       "      <td>12.759432</td>\n",
       "      <td>0.493533</td>\n",
       "      <td>1.114845</td>\n",
       "      <td>5213.784648</td>\n",
       "      <td>NaN</td>\n",
       "      <td>NaN</td>\n",
       "    </tr>\n",
       "    <tr>\n",
       "      <th>min</th>\n",
       "      <td>1.000001e+06</td>\n",
       "      <td>12.000000</td>\n",
       "      <td>0.000000</td>\n",
       "      <td>1.000000</td>\n",
       "      <td>188.000000</td>\n",
       "      <td>NaN</td>\n",
       "      <td>NaN</td>\n",
       "    </tr>\n",
       "    <tr>\n",
       "      <th>25%</th>\n",
       "      <td>1.001496e+06</td>\n",
       "      <td>27.000000</td>\n",
       "      <td>0.000000</td>\n",
       "      <td>2.000000</td>\n",
       "      <td>5443.000000</td>\n",
       "      <td>NaN</td>\n",
       "      <td>NaN</td>\n",
       "    </tr>\n",
       "    <tr>\n",
       "      <th>50%</th>\n",
       "      <td>1.003064e+06</td>\n",
       "      <td>33.000000</td>\n",
       "      <td>0.000000</td>\n",
       "      <td>2.000000</td>\n",
       "      <td>8109.500000</td>\n",
       "      <td>NaN</td>\n",
       "      <td>NaN</td>\n",
       "    </tr>\n",
       "    <tr>\n",
       "      <th>75%</th>\n",
       "      <td>1.004429e+06</td>\n",
       "      <td>43.000000</td>\n",
       "      <td>1.000000</td>\n",
       "      <td>3.000000</td>\n",
       "      <td>12681.500000</td>\n",
       "      <td>NaN</td>\n",
       "      <td>NaN</td>\n",
       "    </tr>\n",
       "    <tr>\n",
       "      <th>max</th>\n",
       "      <td>1.100173e+07</td>\n",
       "      <td>92.000000</td>\n",
       "      <td>1.000000</td>\n",
       "      <td>4.000000</td>\n",
       "      <td>23568.000000</td>\n",
       "      <td>NaN</td>\n",
       "      <td>NaN</td>\n",
       "    </tr>\n",
       "  </tbody>\n",
       "</table>\n",
       "</div>"
      ],
      "text/plain": [
       "            User_ID           Age  Marital_Status        Orders        Amount  \\\n",
       "count  1.123400e+04  11234.000000    11234.000000  11234.000000  11234.000000   \n",
       "mean   1.007453e+06     35.433772        0.419708      2.489496   9452.764638   \n",
       "std    2.109026e+05     12.759432        0.493533      1.114845   5213.784648   \n",
       "min    1.000001e+06     12.000000        0.000000      1.000000    188.000000   \n",
       "25%    1.001496e+06     27.000000        0.000000      2.000000   5443.000000   \n",
       "50%    1.003064e+06     33.000000        0.000000      2.000000   8109.500000   \n",
       "75%    1.004429e+06     43.000000        1.000000      3.000000  12681.500000   \n",
       "max    1.100173e+07     92.000000        1.000000      4.000000  23568.000000   \n",
       "\n",
       "       Status  unnamed1  \n",
       "count     0.0       0.0  \n",
       "mean      NaN       NaN  \n",
       "std       NaN       NaN  \n",
       "min       NaN       NaN  \n",
       "25%       NaN       NaN  \n",
       "50%       NaN       NaN  \n",
       "75%       NaN       NaN  \n",
       "max       NaN       NaN  "
      ]
     },
     "execution_count": 57,
     "metadata": {},
     "output_type": "execute_result"
    }
   ],
   "source": [
    "df.describe()"
   ]
  },
  {
   "cell_type": "markdown",
   "id": "a124b463",
   "metadata": {},
   "source": [
    "### Data visualization"
   ]
  },
  {
   "cell_type": "markdown",
   "id": "bd3e7ca2",
   "metadata": {},
   "source": [
    "#### Gender Wise Ananlysis "
   ]
  },
  {
   "cell_type": "code",
   "execution_count": 58,
   "id": "650eb2ad",
   "metadata": {},
   "outputs": [
    {
     "name": "stdout",
     "output_type": "stream",
     "text": [
      "Gender Wise order count \n",
      "   Gender  Orders\n",
      "0      F    7835\n",
      "1      M    3399\n",
      "Gender Wise purchase power \n",
      "   Gender       Amount\n",
      "0      F  74422989.94\n",
      "1      M  31769368.00\n"
     ]
    }
   ],
   "source": [
    "#plot data\n",
    "data_gender_count = df.groupby(['Gender'], as_index = False)['Orders'].count()\n",
    "print(\"Gender Wise order count \\n\", data_gender_count)\n",
    "data_gender_amount = df.groupby(['Gender'], as_index = False)['Amount'].sum()\n",
    "print(\"Gender Wise purchase power \\n\", data_gender_amount)"
   ]
  },
  {
   "cell_type": "code",
   "execution_count": 59,
   "id": "a4cc02eb",
   "metadata": {},
   "outputs": [
    {
     "data": {
      "image/png": "[encoded data removed]",
      "text/plain": [
       "<Figure size 2000x800 with 2 Axes>"
      ]
     },
     "metadata": {},
     "output_type": "display_data"
    }
   ],
   "source": [
    "#plotting\n",
    "fig,ax = plt.subplots(1,2, figsize = (20,8))\n",
    "#pie chart\n",
    "ax[0].pie(x = data_gender_count['Orders'],\n",
    "         labels = data_gender_count['Gender'], autopct = \"%1.2f%%\")\n",
    "ax[0].set_title(\"Gender wise order Count\")\n",
    "\n",
    "#bar chart\n",
    "sns.barplot(x = 'Gender', y = 'Amount', data = data_gender_amount, ax = ax[1])\n",
    "ax[1].set_title(\"Gender wise purchase power\")\n",
    "plt.show()"
   ]
  },
  {
   "cell_type": "markdown",
   "id": "f8fe071b",
   "metadata": {},
   "source": [
    "#### Conclustion \n",
    "Females generally places more order and their purchase power is also higher."
   ]
  },
  {
   "cell_type": "markdown",
   "id": "3d4cdfcc",
   "metadata": {},
   "source": [
    " #### marital status wise analysis  "
   ]
  },
  {
   "cell_type": "code",
   "execution_count": 60,
   "id": "38b35881",
   "metadata": {},
   "outputs": [
    {
     "data": {
      "text/html": [
       "<div>\n",
       "<style scoped>\n",
       "    .dataframe tbody tr th:only-of-type {\n",
       "        vertical-align: middle;\n",
       "    }\n",
       "\n",
       "    .dataframe tbody tr th {\n",
       "        vertical-align: top;\n",
       "    }\n",
       "\n",
       "    .dataframe thead th {\n",
       "        text-align: right;\n",
       "    }\n",
       "</style>\n",
       "<table border=\"1\" class=\"dataframe\">\n",
       "  <thead>\n",
       "    <tr style=\"text-align: right;\">\n",
       "      <th></th>\n",
       "      <th>Marraige_Status</th>\n",
       "      <th>Amount</th>\n",
       "    </tr>\n",
       "  </thead>\n",
       "  <tbody>\n",
       "    <tr>\n",
       "      <th>0</th>\n",
       "      <td>Married</td>\n",
       "      <td>44003938.00</td>\n",
       "    </tr>\n",
       "    <tr>\n",
       "      <th>1</th>\n",
       "      <td>Unmarried</td>\n",
       "      <td>62188419.94</td>\n",
       "    </tr>\n",
       "  </tbody>\n",
       "</table>\n",
       "</div>"
      ],
      "text/plain": [
       "  Marraige_Status       Amount\n",
       "0         Married  44003938.00\n",
       "1       Unmarried  62188419.94"
      ]
     },
     "execution_count": 60,
     "metadata": {},
     "output_type": "execute_result"
    }
   ],
   "source": [
    "data_marraige_status_amount = df.groupby(['Marraige_Status'], as_index = False)['Amount'].sum()\n",
    "data_marraige_status_amount"
   ]
  },
  {
   "cell_type": "code",
   "execution_count": 61,
   "id": "f6bc5c7f",
   "metadata": {},
   "outputs": [
    {
     "data": {
      "text/html": [
       "<div>\n",
       "<style scoped>\n",
       "    .dataframe tbody tr th:only-of-type {\n",
       "        vertical-align: middle;\n",
       "    }\n",
       "\n",
       "    .dataframe tbody tr th {\n",
       "        vertical-align: top;\n",
       "    }\n",
       "\n",
       "    .dataframe thead th {\n",
       "        text-align: right;\n",
       "    }\n",
       "</style>\n",
       "<table border=\"1\" class=\"dataframe\">\n",
       "  <thead>\n",
       "    <tr style=\"text-align: right;\">\n",
       "      <th></th>\n",
       "      <th>User_ID</th>\n",
       "      <th>Cust_name</th>\n",
       "      <th>Product_ID</th>\n",
       "      <th>Gender</th>\n",
       "      <th>Age Group</th>\n",
       "      <th>Age</th>\n",
       "      <th>Marital_Status</th>\n",
       "      <th>State</th>\n",
       "      <th>Zone</th>\n",
       "      <th>Occupation</th>\n",
       "      <th>Product_Category</th>\n",
       "      <th>Orders</th>\n",
       "      <th>Amount</th>\n",
       "      <th>Status</th>\n",
       "      <th>unnamed1</th>\n",
       "      <th>Marraige_Status</th>\n",
       "    </tr>\n",
       "  </thead>\n",
       "  <tbody>\n",
       "    <tr>\n",
       "      <th>18</th>\n",
       "      <td>1001883.0</td>\n",
       "      <td>Praneet</td>\n",
       "      <td>P00029842</td>\n",
       "      <td>M</td>\n",
       "      <td>26-35</td>\n",
       "      <td>54.0</td>\n",
       "      <td>1.0</td>\n",
       "      <td>Uttar Pradesh</td>\n",
       "      <td>Central</td>\n",
       "      <td>Hospitality</td>\n",
       "      <td>Auto</td>\n",
       "      <td>1.0</td>\n",
       "      <td>23568.0</td>\n",
       "      <td>NaN</td>\n",
       "      <td>NaN</td>\n",
       "      <td>Married</td>\n",
       "    </tr>\n",
       "    <tr>\n",
       "      <th>19</th>\n",
       "      <td>1001883.0</td>\n",
       "      <td>Praneet</td>\n",
       "      <td>P00029842</td>\n",
       "      <td>M</td>\n",
       "      <td>26-35</td>\n",
       "      <td>54.0</td>\n",
       "      <td>1.0</td>\n",
       "      <td>Uttar Pradesh</td>\n",
       "      <td>Central</td>\n",
       "      <td>Hospitality</td>\n",
       "      <td>Auto</td>\n",
       "      <td>1.0</td>\n",
       "      <td>23568.0</td>\n",
       "      <td>NaN</td>\n",
       "      <td>NaN</td>\n",
       "      <td>Married</td>\n",
       "    </tr>\n",
       "    <tr>\n",
       "      <th>20</th>\n",
       "      <td>1000113.0</td>\n",
       "      <td>Ellis</td>\n",
       "      <td>P00180642</td>\n",
       "      <td>F</td>\n",
       "      <td>26-35</td>\n",
       "      <td>19.0</td>\n",
       "      <td>1.0</td>\n",
       "      <td>Andhra Pradesh</td>\n",
       "      <td>Southern</td>\n",
       "      <td>Govt</td>\n",
       "      <td>Auto</td>\n",
       "      <td>4.0</td>\n",
       "      <td>23546.0</td>\n",
       "      <td>NaN</td>\n",
       "      <td>NaN</td>\n",
       "      <td>Married</td>\n",
       "    </tr>\n",
       "    <tr>\n",
       "      <th>21</th>\n",
       "      <td>1000416.0</td>\n",
       "      <td>Hrisheekesh</td>\n",
       "      <td>P00181842</td>\n",
       "      <td>F</td>\n",
       "      <td>26-35</td>\n",
       "      <td>46.0</td>\n",
       "      <td>1.0</td>\n",
       "      <td>Uttar Pradesh</td>\n",
       "      <td>Central</td>\n",
       "      <td>Banking</td>\n",
       "      <td>Auto</td>\n",
       "      <td>2.0</td>\n",
       "      <td>23525.0</td>\n",
       "      <td>NaN</td>\n",
       "      <td>NaN</td>\n",
       "      <td>Married</td>\n",
       "    </tr>\n",
       "    <tr>\n",
       "      <th>22</th>\n",
       "      <td>1005256.0</td>\n",
       "      <td>Grant</td>\n",
       "      <td>P00101742</td>\n",
       "      <td>F</td>\n",
       "      <td>26-35</td>\n",
       "      <td>30.0</td>\n",
       "      <td>0.0</td>\n",
       "      <td>Andhra Pradesh</td>\n",
       "      <td>Southern</td>\n",
       "      <td>IT Sector</td>\n",
       "      <td>Auto</td>\n",
       "      <td>1.0</td>\n",
       "      <td>23518.0</td>\n",
       "      <td>NaN</td>\n",
       "      <td>NaN</td>\n",
       "      <td>Unmarried</td>\n",
       "    </tr>\n",
       "  </tbody>\n",
       "</table>\n",
       "</div>"
      ],
      "text/plain": [
       "      User_ID    Cust_name Product_ID Gender Age Group   Age  Marital_Status  \\\n",
       "18  1001883.0      Praneet  P00029842      M     26-35  54.0             1.0   \n",
       "19  1001883.0      Praneet  P00029842      M     26-35  54.0             1.0   \n",
       "20  1000113.0        Ellis  P00180642      F     26-35  19.0             1.0   \n",
       "21  1000416.0  Hrisheekesh  P00181842      F     26-35  46.0             1.0   \n",
       "22  1005256.0        Grant  P00101742      F     26-35  30.0             0.0   \n",
       "\n",
       "             State      Zone   Occupation Product_Category  Orders   Amount  \\\n",
       "18   Uttar Pradesh   Central  Hospitality             Auto     1.0  23568.0   \n",
       "19   Uttar Pradesh   Central  Hospitality             Auto     1.0  23568.0   \n",
       "20  Andhra Pradesh  Southern         Govt             Auto     4.0  23546.0   \n",
       "21   Uttar Pradesh   Central      Banking             Auto     2.0  23525.0   \n",
       "22  Andhra Pradesh  Southern    IT Sector             Auto     1.0  23518.0   \n",
       "\n",
       "    Status  unnamed1 Marraige_Status  \n",
       "18     NaN       NaN         Married  \n",
       "19     NaN       NaN         Married  \n",
       "20     NaN       NaN         Married  \n",
       "21     NaN       NaN         Married  \n",
       "22     NaN       NaN       Unmarried  "
      ]
     },
     "execution_count": 61,
     "metadata": {},
     "output_type": "execute_result"
    }
   ],
   "source": [
    "df.head()"
   ]
  },
  {
   "cell_type": "code",
   "execution_count": 62,
   "id": "9ade49e5",
   "metadata": {},
   "outputs": [
    {
     "data": {
      "image/png": "[encoded data removed]",
      "text/plain": [
       "<Figure size 2000x800 with 2 Axes>"
      ]
     },
     "metadata": {},
     "output_type": "display_data"
    }
   ],
   "source": [
    "#plots\n",
    "fig,ax = plt.subplots(1,2, figsize = (20,8))\n",
    "#countplot\n",
    "sns.countplot(x = 'Marraige_Status', hue = 'Gender', data = df, ax=ax[0])\n",
    "ax[0].set_title(\"order Count -Maraiage Status\")\n",
    "#bar chart\n",
    "sns.barplot(y = 'Marraige_Status', x = 'Amount', orient = 'h',\n",
    "            data = data_marraige_status_amount, ax = ax[1])\n",
    "ax[1].set_title(\"Amount -Maraiage Status\")\n",
    "\n",
    "# Add custom value labels to the countplot\n",
    "for p in ax[0].patches:\n",
    "    ax[0].annotate(f\"{p.get_height():.0f}\", (p.get_x() + p.get_width() / 2., p.get_height()), ha='center', va='bottom')\n",
    "\n",
    "for p in ax[1].patches:\n",
    "    ax[1].annotate(f\"{p.get_width():.0f}\", (p.get_x() + p.get_width(), p.get_y() + p.get_height() / 2.),\n",
    "                   ha='left', va='center')    \n",
    "plt.show()"
   ]
  },
  {
   "cell_type": "markdown",
   "id": "2b772d40",
   "metadata": {},
   "source": [
    "#### conclusion\n",
    "Unmarried female places more order , than married female and then unmarried male"
   ]
  },
  {
   "cell_type": "markdown",
   "id": "68192560",
   "metadata": {},
   "source": [
    "#### Age Group wise Analysis "
   ]
  },
  {
   "cell_type": "code",
   "execution_count": 63,
   "id": "ee98b765",
   "metadata": {},
   "outputs": [
    {
     "data": {
      "text/html": [
       "<div>\n",
       "<style scoped>\n",
       "    .dataframe tbody tr th:only-of-type {\n",
       "        vertical-align: middle;\n",
       "    }\n",
       "\n",
       "    .dataframe tbody tr th {\n",
       "        vertical-align: top;\n",
       "    }\n",
       "\n",
       "    .dataframe thead th {\n",
       "        text-align: right;\n",
       "    }\n",
       "</style>\n",
       "<table border=\"1\" class=\"dataframe\">\n",
       "  <thead>\n",
       "    <tr style=\"text-align: right;\">\n",
       "      <th></th>\n",
       "      <th>Age Group</th>\n",
       "      <th>Amount</th>\n",
       "    </tr>\n",
       "  </thead>\n",
       "  <tbody>\n",
       "    <tr>\n",
       "      <th>0</th>\n",
       "      <td>0-17</td>\n",
       "      <td>2696529.00</td>\n",
       "    </tr>\n",
       "    <tr>\n",
       "      <th>1</th>\n",
       "      <td>18-25</td>\n",
       "      <td>17032196.00</td>\n",
       "    </tr>\n",
       "    <tr>\n",
       "      <th>2</th>\n",
       "      <td>26-35</td>\n",
       "      <td>42603794.95</td>\n",
       "    </tr>\n",
       "    <tr>\n",
       "      <th>3</th>\n",
       "      <td>36-45</td>\n",
       "      <td>22234332.99</td>\n",
       "    </tr>\n",
       "    <tr>\n",
       "      <th>4</th>\n",
       "      <td>46-50</td>\n",
       "      <td>9245595.00</td>\n",
       "    </tr>\n",
       "    <tr>\n",
       "      <th>5</th>\n",
       "      <td>51-55</td>\n",
       "      <td>8278320.00</td>\n",
       "    </tr>\n",
       "    <tr>\n",
       "      <th>6</th>\n",
       "      <td>55+</td>\n",
       "      <td>4101590.00</td>\n",
       "    </tr>\n",
       "  </tbody>\n",
       "</table>\n",
       "</div>"
      ],
      "text/plain": [
       "  Age Group       Amount\n",
       "0      0-17   2696529.00\n",
       "1     18-25  17032196.00\n",
       "2     26-35  42603794.95\n",
       "3     36-45  22234332.99\n",
       "4     46-50   9245595.00\n",
       "5     51-55   8278320.00\n",
       "6       55+   4101590.00"
      ]
     },
     "execution_count": 63,
     "metadata": {},
     "output_type": "execute_result"
    }
   ],
   "source": [
    "data_Age_Group_amount = df.groupby(['Age Group'], as_index = False)['Amount'].sum()\n",
    "data_Age_Group_amount"
   ]
  },
  {
   "cell_type": "code",
   "execution_count": 64,
   "id": "529ebfbc",
   "metadata": {},
   "outputs": [
    {
     "data": {
      "image/png": "[encoded data removed]",
      "text/plain": [
       "<Figure size 2000x800 with 2 Axes>"
      ]
     },
     "metadata": {},
     "output_type": "display_data"
    }
   ],
   "source": [
    "#plots\n",
    "fig,ax = plt.subplots(1,2, figsize = (20,8))\n",
    "#countplot\n",
    "sns.countplot(x = 'Age Group', data = df, ax=ax[0])\n",
    "ax[0].set_title(\"order Count - Age Group\")\n",
    "#bar chart\n",
    "sns.barplot(y = 'Age Group', x = 'Amount', orient = 'h',\n",
    "            data = data_Age_Group_amount, ax = ax[1])\n",
    "ax[1].set_title(\"Purchase Power -Age Group\")\n",
    "\n",
    "# Add custom value labels to the countplot\n",
    "for p in ax[0].patches:\n",
    "    ax[0].annotate(f\"{p.get_height():.0f}\", (p.get_x() + p.get_width() / 2., p.get_height()), ha='center', va='bottom')\n",
    "\n",
    "for p in ax[1].patches:\n",
    "    ax[1].annotate(f\"{p.get_width():.0f}\", (p.get_x() + p.get_width(), p.get_y() + p.get_height() / 2.),\n",
    "                   ha='left', va='center')    \n",
    "plt.show()"
   ]
  },
  {
   "cell_type": "markdown",
   "id": "12ae2f90",
   "metadata": {},
   "source": [
    "####  Conclution\n"
   ]
  },
  {
   "cell_type": "markdown",
   "id": "16257e0b",
   "metadata": {},
   "source": [
    "### product Category wise analysis "
   ]
  },
  {
   "cell_type": "code",
   "execution_count": 65,
   "id": "ca925a17",
   "metadata": {},
   "outputs": [
    {
     "data": {
      "text/html": [
       "<div>\n",
       "<style scoped>\n",
       "    .dataframe tbody tr th:only-of-type {\n",
       "        vertical-align: middle;\n",
       "    }\n",
       "\n",
       "    .dataframe tbody tr th {\n",
       "        vertical-align: top;\n",
       "    }\n",
       "\n",
       "    .dataframe thead th {\n",
       "        text-align: right;\n",
       "    }\n",
       "</style>\n",
       "<table border=\"1\" class=\"dataframe\">\n",
       "  <thead>\n",
       "    <tr style=\"text-align: right;\">\n",
       "      <th></th>\n",
       "      <th>Product_Category</th>\n",
       "      <th>Orders</th>\n",
       "    </tr>\n",
       "  </thead>\n",
       "  <tbody>\n",
       "    <tr>\n",
       "      <th>3</th>\n",
       "      <td>Clothing &amp; Apparel</td>\n",
       "      <td>6627.0</td>\n",
       "    </tr>\n",
       "    <tr>\n",
       "      <th>6</th>\n",
       "      <td>Food</td>\n",
       "      <td>6110.0</td>\n",
       "    </tr>\n",
       "    <tr>\n",
       "      <th>5</th>\n",
       "      <td>Electronics &amp; Gadgets</td>\n",
       "      <td>5208.0</td>\n",
       "    </tr>\n",
       "    <tr>\n",
       "      <th>7</th>\n",
       "      <td>Footwear &amp; Shoes</td>\n",
       "      <td>2701.0</td>\n",
       "    </tr>\n",
       "    <tr>\n",
       "      <th>11</th>\n",
       "      <td>Household items</td>\n",
       "      <td>1331.0</td>\n",
       "    </tr>\n",
       "    <tr>\n",
       "      <th>1</th>\n",
       "      <td>Beauty</td>\n",
       "      <td>1086.0</td>\n",
       "    </tr>\n",
       "    <tr>\n",
       "      <th>9</th>\n",
       "      <td>Games &amp; Toys</td>\n",
       "      <td>940.0</td>\n",
       "    </tr>\n",
       "    <tr>\n",
       "      <th>8</th>\n",
       "      <td>Furniture</td>\n",
       "      <td>895.0</td>\n",
       "    </tr>\n",
       "    <tr>\n",
       "      <th>14</th>\n",
       "      <td>Sports Products</td>\n",
       "      <td>870.0</td>\n",
       "    </tr>\n",
       "    <tr>\n",
       "      <th>13</th>\n",
       "      <td>Pet Care</td>\n",
       "      <td>536.0</td>\n",
       "    </tr>\n",
       "  </tbody>\n",
       "</table>\n",
       "</div>"
      ],
      "text/plain": [
       "         Product_Category  Orders\n",
       "3      Clothing & Apparel  6627.0\n",
       "6                    Food  6110.0\n",
       "5   Electronics & Gadgets  5208.0\n",
       "7        Footwear & Shoes  2701.0\n",
       "11        Household items  1331.0\n",
       "1                  Beauty  1086.0\n",
       "9            Games & Toys   940.0\n",
       "8               Furniture   895.0\n",
       "14        Sports Products   870.0\n",
       "13               Pet Care   536.0"
      ]
     },
     "execution_count": 65,
     "metadata": {},
     "output_type": "execute_result"
    }
   ],
   "source": [
    "data_product_category_count = df.groupby(['Product_Category'], as_index = False)['Orders'].sum().sort_values(by='Orders', ascending=False).head(10)\n",
    "data_product_category_count"
   ]
  },
  {
   "cell_type": "code",
   "execution_count": 66,
   "id": "37567912",
   "metadata": {},
   "outputs": [
    {
     "data": {
      "text/html": [
       "<div>\n",
       "<style scoped>\n",
       "    .dataframe tbody tr th:only-of-type {\n",
       "        vertical-align: middle;\n",
       "    }\n",
       "\n",
       "    .dataframe tbody tr th {\n",
       "        vertical-align: top;\n",
       "    }\n",
       "\n",
       "    .dataframe thead th {\n",
       "        text-align: right;\n",
       "    }\n",
       "</style>\n",
       "<table border=\"1\" class=\"dataframe\">\n",
       "  <thead>\n",
       "    <tr style=\"text-align: right;\">\n",
       "      <th></th>\n",
       "      <th>Product_Category</th>\n",
       "      <th>Amount</th>\n",
       "    </tr>\n",
       "  </thead>\n",
       "  <tbody>\n",
       "    <tr>\n",
       "      <th>6</th>\n",
       "      <td>Food</td>\n",
       "      <td>33933883.50</td>\n",
       "    </tr>\n",
       "    <tr>\n",
       "      <th>3</th>\n",
       "      <td>Clothing &amp; Apparel</td>\n",
       "      <td>16484472.00</td>\n",
       "    </tr>\n",
       "    <tr>\n",
       "      <th>7</th>\n",
       "      <td>Footwear &amp; Shoes</td>\n",
       "      <td>16009057.45</td>\n",
       "    </tr>\n",
       "    <tr>\n",
       "      <th>5</th>\n",
       "      <td>Electronics &amp; Gadgets</td>\n",
       "      <td>15607657.00</td>\n",
       "    </tr>\n",
       "    <tr>\n",
       "      <th>8</th>\n",
       "      <td>Furniture</td>\n",
       "      <td>5481325.99</td>\n",
       "    </tr>\n",
       "    <tr>\n",
       "      <th>9</th>\n",
       "      <td>Games &amp; Toys</td>\n",
       "      <td>4331694.00</td>\n",
       "    </tr>\n",
       "    <tr>\n",
       "      <th>14</th>\n",
       "      <td>Sports Products</td>\n",
       "      <td>3635933.00</td>\n",
       "    </tr>\n",
       "    <tr>\n",
       "      <th>1</th>\n",
       "      <td>Beauty</td>\n",
       "      <td>1959484.00</td>\n",
       "    </tr>\n",
       "    <tr>\n",
       "      <th>0</th>\n",
       "      <td>Auto</td>\n",
       "      <td>1624503.00</td>\n",
       "    </tr>\n",
       "    <tr>\n",
       "      <th>11</th>\n",
       "      <td>Household items</td>\n",
       "      <td>1569337.00</td>\n",
       "    </tr>\n",
       "  </tbody>\n",
       "</table>\n",
       "</div>"
      ],
      "text/plain": [
       "         Product_Category       Amount\n",
       "6                    Food  33933883.50\n",
       "3      Clothing & Apparel  16484472.00\n",
       "7        Footwear & Shoes  16009057.45\n",
       "5   Electronics & Gadgets  15607657.00\n",
       "8               Furniture   5481325.99\n",
       "9            Games & Toys   4331694.00\n",
       "14        Sports Products   3635933.00\n",
       "1                  Beauty   1959484.00\n",
       "0                    Auto   1624503.00\n",
       "11        Household items   1569337.00"
      ]
     },
     "execution_count": 66,
     "metadata": {},
     "output_type": "execute_result"
    }
   ],
   "source": [
    "data_product_category_amount = df.groupby(['Product_Category'], as_index = False)['Amount'].sum().sort_values(by='Amount', ascending=False).head(10)\n",
    "data_product_category_amount"
   ]
  },
  {
   "cell_type": "code",
   "execution_count": 67,
   "id": "f23a9118",
   "metadata": {},
   "outputs": [
    {
     "data": {
      "image/png": "[encoded data removed]",
      "text/plain": [
       "<Figure size 4000x1000 with 2 Axes>"
      ]
     },
     "metadata": {},
     "output_type": "display_data"
    }
   ],
   "source": [
    "#Top 10 states of Product Category\n",
    "#plots\n",
    "fig,ax = plt.subplots(1,2, figsize = (40,10))\n",
    "#countplot\n",
    "sns.countplot(x = 'Product_Category',\n",
    "              data = df, ax=ax[0],order=df['Product_Category'].value_counts('Product_Category').iloc[:10].index)\n",
    "ax[0].set_title(\"order Count - Top 10 States\")\n",
    "#bar chart\n",
    "sns.barplot(y = 'Product_Category', x = 'Amount', orient = 'h',\n",
    "            data = data_product_category_amount, ax = ax[1])\n",
    "ax[1].set_title(\"Purchase Power - Top 10 States \")\n",
    "\n",
    "# Add custom value labels to the countplot\n",
    "for p in ax[0].patches:\n",
    "    ax[0].annotate(f\"{p.get_height():.0f}\", (p.get_x() + p.get_width() / 2., p.get_height()), ha='center', va='bottom')\n",
    "\n",
    "for p in ax[1].patches:\n",
    "    ax[1].annotate(f\"{p.get_width():.0f}\", (p.get_x() + p.get_width(), p.get_y() + p.get_height() / 2.),\n",
    "                   ha='left', va='center')    \n",
    "plt.show()"
   ]
  },
  {
   "cell_type": "markdown",
   "id": "db528856",
   "metadata": {},
   "source": [
    "##### conclution"
   ]
  },
  {
   "cell_type": "markdown",
   "id": "625f4cb9",
   "metadata": {},
   "source": [
    "### State wise analysis"
   ]
  },
  {
   "cell_type": "code",
   "execution_count": 68,
   "id": "bf249412",
   "metadata": {},
   "outputs": [
    {
     "data": {
      "text/html": [
       "<div>\n",
       "<style scoped>\n",
       "    .dataframe tbody tr th:only-of-type {\n",
       "        vertical-align: middle;\n",
       "    }\n",
       "\n",
       "    .dataframe tbody tr th {\n",
       "        vertical-align: top;\n",
       "    }\n",
       "\n",
       "    .dataframe thead th {\n",
       "        text-align: right;\n",
       "    }\n",
       "</style>\n",
       "<table border=\"1\" class=\"dataframe\">\n",
       "  <thead>\n",
       "    <tr style=\"text-align: right;\">\n",
       "      <th></th>\n",
       "      <th>State</th>\n",
       "      <th>Orders</th>\n",
       "    </tr>\n",
       "  </thead>\n",
       "  <tbody>\n",
       "    <tr>\n",
       "      <th>14</th>\n",
       "      <td>Uttar Pradesh</td>\n",
       "      <td>4805.0</td>\n",
       "    </tr>\n",
       "    <tr>\n",
       "      <th>10</th>\n",
       "      <td>Maharashtra</td>\n",
       "      <td>3799.0</td>\n",
       "    </tr>\n",
       "    <tr>\n",
       "      <th>7</th>\n",
       "      <td>Karnataka</td>\n",
       "      <td>3266.0</td>\n",
       "    </tr>\n",
       "    <tr>\n",
       "      <th>2</th>\n",
       "      <td>Delhi</td>\n",
       "      <td>2728.0</td>\n",
       "    </tr>\n",
       "    <tr>\n",
       "      <th>9</th>\n",
       "      <td>Madhya Pradesh</td>\n",
       "      <td>2253.0</td>\n",
       "    </tr>\n",
       "    <tr>\n",
       "      <th>0</th>\n",
       "      <td>Andhra Pradesh</td>\n",
       "      <td>2036.0</td>\n",
       "    </tr>\n",
       "    <tr>\n",
       "      <th>5</th>\n",
       "      <td>Himachal Pradesh</td>\n",
       "      <td>1567.0</td>\n",
       "    </tr>\n",
       "    <tr>\n",
       "      <th>8</th>\n",
       "      <td>Kerala</td>\n",
       "      <td>1137.0</td>\n",
       "    </tr>\n",
       "    <tr>\n",
       "      <th>4</th>\n",
       "      <td>Haryana</td>\n",
       "      <td>1104.0</td>\n",
       "    </tr>\n",
       "    <tr>\n",
       "      <th>3</th>\n",
       "      <td>Gujarat</td>\n",
       "      <td>1065.0</td>\n",
       "    </tr>\n",
       "  </tbody>\n",
       "</table>\n",
       "</div>"
      ],
      "text/plain": [
       "               State  Orders\n",
       "14     Uttar Pradesh  4805.0\n",
       "10       Maharashtra  3799.0\n",
       "7          Karnataka  3266.0\n",
       "2              Delhi  2728.0\n",
       "9     Madhya Pradesh  2253.0\n",
       "0     Andhra Pradesh  2036.0\n",
       "5   Himachal Pradesh  1567.0\n",
       "8             Kerala  1137.0\n",
       "4            Haryana  1104.0\n",
       "3            Gujarat  1065.0"
      ]
     },
     "execution_count": 68,
     "metadata": {},
     "output_type": "execute_result"
    }
   ],
   "source": [
    "data_state_count = df.groupby(['State'], as_index = False)['Orders'].sum().sort_values(by='Orders', ascending=False).head(10)\n",
    "data_state_count"
   ]
  },
  {
   "cell_type": "code",
   "execution_count": 69,
   "id": "8a2c6278",
   "metadata": {},
   "outputs": [
    {
     "data": {
      "text/html": [
       "<div>\n",
       "<style scoped>\n",
       "    .dataframe tbody tr th:only-of-type {\n",
       "        vertical-align: middle;\n",
       "    }\n",
       "\n",
       "    .dataframe tbody tr th {\n",
       "        vertical-align: top;\n",
       "    }\n",
       "\n",
       "    .dataframe thead th {\n",
       "        text-align: right;\n",
       "    }\n",
       "</style>\n",
       "<table border=\"1\" class=\"dataframe\">\n",
       "  <thead>\n",
       "    <tr style=\"text-align: right;\">\n",
       "      <th></th>\n",
       "      <th>State</th>\n",
       "      <th>Amount</th>\n",
       "    </tr>\n",
       "  </thead>\n",
       "  <tbody>\n",
       "    <tr>\n",
       "      <th>14</th>\n",
       "      <td>Uttar Pradesh</td>\n",
       "      <td>19360148.00</td>\n",
       "    </tr>\n",
       "    <tr>\n",
       "      <th>10</th>\n",
       "      <td>Maharashtra</td>\n",
       "      <td>14400762.00</td>\n",
       "    </tr>\n",
       "    <tr>\n",
       "      <th>7</th>\n",
       "      <td>Karnataka</td>\n",
       "      <td>13705829.00</td>\n",
       "    </tr>\n",
       "    <tr>\n",
       "      <th>2</th>\n",
       "      <td>Delhi</td>\n",
       "      <td>11554343.95</td>\n",
       "    </tr>\n",
       "    <tr>\n",
       "      <th>9</th>\n",
       "      <td>Madhya Pradesh</td>\n",
       "      <td>8100944.00</td>\n",
       "    </tr>\n",
       "    <tr>\n",
       "      <th>0</th>\n",
       "      <td>Andhra Pradesh</td>\n",
       "      <td>7894002.00</td>\n",
       "    </tr>\n",
       "    <tr>\n",
       "      <th>5</th>\n",
       "      <td>Himachal Pradesh</td>\n",
       "      <td>4939491.00</td>\n",
       "    </tr>\n",
       "    <tr>\n",
       "      <th>4</th>\n",
       "      <td>Haryana</td>\n",
       "      <td>4196308.00</td>\n",
       "    </tr>\n",
       "    <tr>\n",
       "      <th>1</th>\n",
       "      <td>Bihar</td>\n",
       "      <td>4035457.00</td>\n",
       "    </tr>\n",
       "    <tr>\n",
       "      <th>3</th>\n",
       "      <td>Gujarat</td>\n",
       "      <td>3935078.00</td>\n",
       "    </tr>\n",
       "  </tbody>\n",
       "</table>\n",
       "</div>"
      ],
      "text/plain": [
       "               State       Amount\n",
       "14     Uttar Pradesh  19360148.00\n",
       "10       Maharashtra  14400762.00\n",
       "7          Karnataka  13705829.00\n",
       "2              Delhi  11554343.95\n",
       "9     Madhya Pradesh   8100944.00\n",
       "0     Andhra Pradesh   7894002.00\n",
       "5   Himachal Pradesh   4939491.00\n",
       "4            Haryana   4196308.00\n",
       "1              Bihar   4035457.00\n",
       "3            Gujarat   3935078.00"
      ]
     },
     "execution_count": 69,
     "metadata": {},
     "output_type": "execute_result"
    }
   ],
   "source": [
    "data_state_amount = df.groupby(['State'], as_index = False)['Amount'].sum().sort_values(by='Amount', ascending=False).head(10)\n",
    "data_state_amount"
   ]
  },
  {
   "cell_type": "code",
   "execution_count": 70,
   "id": "ba1c6a0d",
   "metadata": {},
   "outputs": [
    {
     "data": {
      "image/png": "[encoded data removed]",
      "text/plain": [
       "<Figure size 4000x1000 with 2 Axes>"
      ]
     },
     "metadata": {},
     "output_type": "display_data"
    }
   ],
   "source": [
    "#Top 10 states of State\n",
    "#plots\n",
    "fig,ax = plt.subplots(1,2, figsize = (40,10))\n",
    "#countplot\n",
    "sns.countplot(x = 'State',\n",
    "              data = df, ax=ax[0],order=df['State'].value_counts('State').iloc[:10].index)\n",
    "ax[0].set_title(\"order Count - Top 10 States\")\n",
    "#bar chart\n",
    "sns.barplot(y = 'State', x = 'Amount', orient = 'h',\n",
    "            data = data_state_amount, ax = ax[1])\n",
    "ax[1].set_title(\"Purchase Power - Top 10 States \")\n",
    "# Add custom value labels to the countplot\n",
    "for p in ax[0].patches:\n",
    "    ax[0].annotate(f\"{p.get_height():.0f}\", (p.get_x() + p.get_width() / 2., p.get_height()), ha='center', va='bottom')\n",
    "\n",
    "for p in ax[1].patches:\n",
    "    ax[1].annotate(f\"{p.get_width():.0f}\", (p.get_x() + p.get_width(), p.get_y() + p.get_height() / 2.),\n",
    "                   ha='left', va='center')    \n",
    "plt.show()"
   ]
  },
  {
   "cell_type": "markdown",
   "id": "e501a205",
   "metadata": {},
   "source": [
    "### Product id wise analysis"
   ]
  },
  {
   "cell_type": "code",
   "execution_count": 71,
   "id": "6d651f7c",
   "metadata": {},
   "outputs": [
    {
     "data": {
      "text/html": [
       "<div>\n",
       "<style scoped>\n",
       "    .dataframe tbody tr th:only-of-type {\n",
       "        vertical-align: middle;\n",
       "    }\n",
       "\n",
       "    .dataframe tbody tr th {\n",
       "        vertical-align: top;\n",
       "    }\n",
       "\n",
       "    .dataframe thead th {\n",
       "        text-align: right;\n",
       "    }\n",
       "</style>\n",
       "<table border=\"1\" class=\"dataframe\">\n",
       "  <thead>\n",
       "    <tr style=\"text-align: right;\">\n",
       "      <th></th>\n",
       "      <th>Product_ID</th>\n",
       "    </tr>\n",
       "  </thead>\n",
       "  <tbody>\n",
       "    <tr>\n",
       "      <th>2348</th>\n",
       "      <td>P0099742</td>\n",
       "    </tr>\n",
       "    <tr>\n",
       "      <th>2347</th>\n",
       "      <td>P0099442P0099442P0099442P0099442</td>\n",
       "    </tr>\n",
       "    <tr>\n",
       "      <th>2346</th>\n",
       "      <td>P0099342P0099342P0099342P0099342P0099342P00993...</td>\n",
       "    </tr>\n",
       "    <tr>\n",
       "      <th>2345</th>\n",
       "      <td>P0099242P0099242P0099242P0099242P0099242P00992...</td>\n",
       "    </tr>\n",
       "    <tr>\n",
       "      <th>2344</th>\n",
       "      <td>P0099042P0099042P0099042P0099042P0099042P0099042</td>\n",
       "    </tr>\n",
       "    <tr>\n",
       "      <th>2343</th>\n",
       "      <td>P0098842</td>\n",
       "    </tr>\n",
       "    <tr>\n",
       "      <th>2342</th>\n",
       "      <td>P0098742</td>\n",
       "    </tr>\n",
       "    <tr>\n",
       "      <th>2341</th>\n",
       "      <td>P0098442</td>\n",
       "    </tr>\n",
       "    <tr>\n",
       "      <th>2340</th>\n",
       "      <td>P0098342P0098342P0098342P0098342P0098342</td>\n",
       "    </tr>\n",
       "    <tr>\n",
       "      <th>2339</th>\n",
       "      <td>P0098242P0098242P0098242P0098242P0098242P0098242</td>\n",
       "    </tr>\n",
       "  </tbody>\n",
       "</table>\n",
       "</div>"
      ],
      "text/plain": [
       "                                             Product_ID\n",
       "2348                                           P0099742\n",
       "2347                   P0099442P0099442P0099442P0099442\n",
       "2346  P0099342P0099342P0099342P0099342P0099342P00993...\n",
       "2345  P0099242P0099242P0099242P0099242P0099242P00992...\n",
       "2344   P0099042P0099042P0099042P0099042P0099042P0099042\n",
       "2343                                           P0098842\n",
       "2342                                           P0098742\n",
       "2341                                           P0098442\n",
       "2340           P0098342P0098342P0098342P0098342P0098342\n",
       "2339   P0098242P0098242P0098242P0098242P0098242P0098242"
      ]
     },
     "execution_count": 71,
     "metadata": {},
     "output_type": "execute_result"
    }
   ],
   "source": [
    "data_product_id_count = df.groupby(['Product_ID'], as_index = False)['Product_ID'].sum().sort_values(by='Product_ID', ascending=False).head(10)\n",
    "data_product_id_count"
   ]
  },
  {
   "cell_type": "code",
   "execution_count": 72,
   "id": "7ab2d03f",
   "metadata": {},
   "outputs": [
    {
     "data": {
      "text/html": [
       "<div>\n",
       "<style scoped>\n",
       "    .dataframe tbody tr th:only-of-type {\n",
       "        vertical-align: middle;\n",
       "    }\n",
       "\n",
       "    .dataframe tbody tr th {\n",
       "        vertical-align: top;\n",
       "    }\n",
       "\n",
       "    .dataframe thead th {\n",
       "        text-align: right;\n",
       "    }\n",
       "</style>\n",
       "<table border=\"1\" class=\"dataframe\">\n",
       "  <thead>\n",
       "    <tr style=\"text-align: right;\">\n",
       "      <th></th>\n",
       "      <th>Product_ID</th>\n",
       "      <th>Amount</th>\n",
       "    </tr>\n",
       "  </thead>\n",
       "  <tbody>\n",
       "    <tr>\n",
       "      <th>1678</th>\n",
       "      <td>P00265242</td>\n",
       "      <td>561461.0</td>\n",
       "    </tr>\n",
       "    <tr>\n",
       "      <th>1146</th>\n",
       "      <td>P00184942</td>\n",
       "      <td>401816.0</td>\n",
       "    </tr>\n",
       "    <tr>\n",
       "      <th>644</th>\n",
       "      <td>P00110942</td>\n",
       "      <td>400899.0</td>\n",
       "    </tr>\n",
       "    <tr>\n",
       "      <th>396</th>\n",
       "      <td>P00059442</td>\n",
       "      <td>359230.0</td>\n",
       "    </tr>\n",
       "    <tr>\n",
       "      <th>654</th>\n",
       "      <td>P00112142</td>\n",
       "      <td>341020.0</td>\n",
       "    </tr>\n",
       "    <tr>\n",
       "      <th>1503</th>\n",
       "      <td>P00237542</td>\n",
       "      <td>322363.0</td>\n",
       "    </tr>\n",
       "    <tr>\n",
       "      <th>388</th>\n",
       "      <td>P00058042</td>\n",
       "      <td>307040.0</td>\n",
       "    </tr>\n",
       "    <tr>\n",
       "      <th>642</th>\n",
       "      <td>P00110742</td>\n",
       "      <td>294548.0</td>\n",
       "    </tr>\n",
       "    <tr>\n",
       "      <th>643</th>\n",
       "      <td>P00110842</td>\n",
       "      <td>290661.0</td>\n",
       "    </tr>\n",
       "    <tr>\n",
       "      <th>313</th>\n",
       "      <td>P00046742</td>\n",
       "      <td>287643.0</td>\n",
       "    </tr>\n",
       "  </tbody>\n",
       "</table>\n",
       "</div>"
      ],
      "text/plain": [
       "     Product_ID    Amount\n",
       "1678  P00265242  561461.0\n",
       "1146  P00184942  401816.0\n",
       "644   P00110942  400899.0\n",
       "396   P00059442  359230.0\n",
       "654   P00112142  341020.0\n",
       "1503  P00237542  322363.0\n",
       "388   P00058042  307040.0\n",
       "642   P00110742  294548.0\n",
       "643   P00110842  290661.0\n",
       "313   P00046742  287643.0"
      ]
     },
     "execution_count": 72,
     "metadata": {},
     "output_type": "execute_result"
    }
   ],
   "source": [
    "data_product_id_amount = df.groupby(['Product_ID'], as_index = False)['Amount'].sum().sort_values(by='Amount', ascending=False).head(10)\n",
    "data_product_id_amount"
   ]
  },
  {
   "cell_type": "code",
   "execution_count": 73,
   "id": "360a8283",
   "metadata": {},
   "outputs": [
    {
     "data": {
      "image/png": "[encoded data removed]",
      "text/plain": [
       "<Figure size 4000x1000 with 2 Axes>"
      ]
     },
     "metadata": {},
     "output_type": "display_data"
    }
   ],
   "source": [
    "#Top 10 states of Product id\n",
    "#plots\n",
    "fig,ax = plt.subplots(1,2, figsize = (40,10))\n",
    "#countplot\n",
    "sns.countplot(x = 'Product_ID',\n",
    "              data = df, ax=ax[0],order=df['Product_ID'].value_counts('Product_ID').iloc[:10].index)\n",
    "ax[0].set_title(\"order Count - Top 10 States\")#bar chart\n",
    "sns.barplot(y = 'Product_ID', x = 'Amount', orient = 'h',\n",
    "            data = data_product_id_amount, ax = ax[1])\n",
    "ax[1].set_title(\"Purchase Power - Top 10 States \")\n",
    "# Add custom value labels to the countplot\n",
    "for p in ax[0].patches:\n",
    "    ax[0].annotate(f\"{p.get_height():.0f}\", (p.get_x() + p.get_width() / 2., p.get_height()), ha='center', va='bottom')\n",
    "\n",
    "for p in ax[1].patches:\n",
    "    ax[1].annotate(f\"{p.get_width():.0f}\", (p.get_x() + p.get_width(), p.get_y() + p.get_height() / 2.),\n",
    "                   ha='left', va='center')    \n",
    "plt.show()"
   ]
  },
  {
   "cell_type": "markdown",
   "id": "3b710866",
   "metadata": {},
   "source": [
    "### Occoupation wise analysis"
   ]
  },
  {
   "cell_type": "code",
   "execution_count": 74,
   "id": "22bd953d",
   "metadata": {},
   "outputs": [
    {
     "data": {
      "text/html": [
       "<div>\n",
       "<style scoped>\n",
       "    .dataframe tbody tr th:only-of-type {\n",
       "        vertical-align: middle;\n",
       "    }\n",
       "\n",
       "    .dataframe tbody tr th {\n",
       "        vertical-align: top;\n",
       "    }\n",
       "\n",
       "    .dataframe thead th {\n",
       "        text-align: right;\n",
       "    }\n",
       "</style>\n",
       "<table border=\"1\" class=\"dataframe\">\n",
       "  <thead>\n",
       "    <tr style=\"text-align: right;\">\n",
       "      <th></th>\n",
       "      <th>Occupation</th>\n",
       "    </tr>\n",
       "  </thead>\n",
       "  <tbody>\n",
       "    <tr>\n",
       "      <th>14</th>\n",
       "      <td>TextileTextileTextileTextileTextileTextileText...</td>\n",
       "    </tr>\n",
       "    <tr>\n",
       "      <th>13</th>\n",
       "      <td>RetailRetailRetailRetailRetailRetailRetailReta...</td>\n",
       "    </tr>\n",
       "    <tr>\n",
       "      <th>12</th>\n",
       "      <td>MediaMediaMediaMediaMediaMediaMediaMediaMediaM...</td>\n",
       "    </tr>\n",
       "    <tr>\n",
       "      <th>11</th>\n",
       "      <td>LawyerLawyerLawyerLawyerLawyerLawyerLawyerLawy...</td>\n",
       "    </tr>\n",
       "    <tr>\n",
       "      <th>10</th>\n",
       "      <td>IT SectorIT SectorIT SectorIT SectorIT SectorI...</td>\n",
       "    </tr>\n",
       "    <tr>\n",
       "      <th>9</th>\n",
       "      <td>HospitalityHospitalityHospitalityHospitalityHo...</td>\n",
       "    </tr>\n",
       "    <tr>\n",
       "      <th>8</th>\n",
       "      <td>HealthcareHealthcareHealthcareHealthcareHealth...</td>\n",
       "    </tr>\n",
       "    <tr>\n",
       "      <th>7</th>\n",
       "      <td>GovtGovtGovtGovtGovtGovtGovtGovtGovtGovtGovtGo...</td>\n",
       "    </tr>\n",
       "    <tr>\n",
       "      <th>6</th>\n",
       "      <td>Food ProcessingFood ProcessingFood ProcessingF...</td>\n",
       "    </tr>\n",
       "    <tr>\n",
       "      <th>5</th>\n",
       "      <td>ConstructionConstructionConstructionConstructi...</td>\n",
       "    </tr>\n",
       "  </tbody>\n",
       "</table>\n",
       "</div>"
      ],
      "text/plain": [
       "                                           Occupation\n",
       "14  TextileTextileTextileTextileTextileTextileText...\n",
       "13  RetailRetailRetailRetailRetailRetailRetailReta...\n",
       "12  MediaMediaMediaMediaMediaMediaMediaMediaMediaM...\n",
       "11  LawyerLawyerLawyerLawyerLawyerLawyerLawyerLawy...\n",
       "10  IT SectorIT SectorIT SectorIT SectorIT SectorI...\n",
       "9   HospitalityHospitalityHospitalityHospitalityHo...\n",
       "8   HealthcareHealthcareHealthcareHealthcareHealth...\n",
       "7   GovtGovtGovtGovtGovtGovtGovtGovtGovtGovtGovtGo...\n",
       "6   Food ProcessingFood ProcessingFood ProcessingF...\n",
       "5   ConstructionConstructionConstructionConstructi..."
      ]
     },
     "execution_count": 74,
     "metadata": {},
     "output_type": "execute_result"
    }
   ],
   "source": [
    "data_occupation_count = df.groupby(['Occupation'], as_index = False)['Occupation'].sum().sort_values(by='Occupation', ascending=False).head(10)\n",
    "data_occupation_count"
   ]
  },
  {
   "cell_type": "code",
   "execution_count": 75,
   "id": "935cb4c1",
   "metadata": {},
   "outputs": [
    {
     "data": {
      "text/html": [
       "<div>\n",
       "<style scoped>\n",
       "    .dataframe tbody tr th:only-of-type {\n",
       "        vertical-align: middle;\n",
       "    }\n",
       "\n",
       "    .dataframe tbody tr th {\n",
       "        vertical-align: top;\n",
       "    }\n",
       "\n",
       "    .dataframe thead th {\n",
       "        text-align: right;\n",
       "    }\n",
       "</style>\n",
       "<table border=\"1\" class=\"dataframe\">\n",
       "  <thead>\n",
       "    <tr style=\"text-align: right;\">\n",
       "      <th></th>\n",
       "      <th>Occupation</th>\n",
       "      <th>Amount</th>\n",
       "    </tr>\n",
       "  </thead>\n",
       "  <tbody>\n",
       "    <tr>\n",
       "      <th>10</th>\n",
       "      <td>IT Sector</td>\n",
       "      <td>14902488.00</td>\n",
       "    </tr>\n",
       "    <tr>\n",
       "      <th>8</th>\n",
       "      <td>Healthcare</td>\n",
       "      <td>12989061.49</td>\n",
       "    </tr>\n",
       "    <tr>\n",
       "      <th>2</th>\n",
       "      <td>Aviation</td>\n",
       "      <td>12596751.00</td>\n",
       "    </tr>\n",
       "    <tr>\n",
       "      <th>3</th>\n",
       "      <td>Banking</td>\n",
       "      <td>10767299.45</td>\n",
       "    </tr>\n",
       "    <tr>\n",
       "      <th>7</th>\n",
       "      <td>Govt</td>\n",
       "      <td>8425182.00</td>\n",
       "    </tr>\n",
       "    <tr>\n",
       "      <th>9</th>\n",
       "      <td>Hospitality</td>\n",
       "      <td>6402793.00</td>\n",
       "    </tr>\n",
       "    <tr>\n",
       "      <th>12</th>\n",
       "      <td>Media</td>\n",
       "      <td>6291535.00</td>\n",
       "    </tr>\n",
       "    <tr>\n",
       "      <th>1</th>\n",
       "      <td>Automobile</td>\n",
       "      <td>5362757.00</td>\n",
       "    </tr>\n",
       "    <tr>\n",
       "      <th>4</th>\n",
       "      <td>Chemical</td>\n",
       "      <td>5297100.00</td>\n",
       "    </tr>\n",
       "    <tr>\n",
       "      <th>11</th>\n",
       "      <td>Lawyer</td>\n",
       "      <td>4977574.00</td>\n",
       "    </tr>\n",
       "  </tbody>\n",
       "</table>\n",
       "</div>"
      ],
      "text/plain": [
       "     Occupation       Amount\n",
       "10    IT Sector  14902488.00\n",
       "8    Healthcare  12989061.49\n",
       "2      Aviation  12596751.00\n",
       "3       Banking  10767299.45\n",
       "7          Govt   8425182.00\n",
       "9   Hospitality   6402793.00\n",
       "12        Media   6291535.00\n",
       "1    Automobile   5362757.00\n",
       "4      Chemical   5297100.00\n",
       "11       Lawyer   4977574.00"
      ]
     },
     "execution_count": 75,
     "metadata": {},
     "output_type": "execute_result"
    }
   ],
   "source": [
    "data_occupation_amount = df.groupby(['Occupation'], as_index = False)['Amount'].sum().sort_values(by='Amount', ascending=False).head(10)\n",
    "data_occupation_amount"
   ]
  },
  {
   "cell_type": "code",
   "execution_count": 76,
   "id": "3d4e8e54",
   "metadata": {},
   "outputs": [
    {
     "data": {
      "image/png": "[encoded data removed]",
      "text/plain": [
       "<Figure size 4000x1000 with 2 Axes>"
      ]
     },
     "metadata": {},
     "output_type": "display_data"
    }
   ],
   "source": [
    "#Top 10 States of Occupation\n",
    "fig, ax = plt.subplots(1, 2, figsize=(40, 10))\n",
    "\n",
    "# Left plot: Countplot\n",
    "sns.countplot(x='Occupation', data=df, ax=ax[0], order=df['Occupation'].value_counts().iloc[:10].index)\n",
    "ax[0].set_title(\"Order Count - Top 10 States\")\n",
    "# Right plot: Bar chart\n",
    "sns.barplot(y='Occupation', x='Amount', orient='h', data=data_occupation_amount, ax=ax[1])\n",
    "ax[1].set_title(\"Purchase Power - Top 10 States\")\n",
    "\n",
    "# Add custom value labels to the countplot\n",
    "for p in ax[0].patches:\n",
    "    ax[0].annotate(f\"{p.get_height():.0f}\", (p.get_x() + p.get_width() / 2., p.get_height()), ha='center', va='bottom')\n",
    "\n",
    "for p in ax[1].patches:\n",
    "    ax[1].annotate(f\"{p.get_width():.0f}\", (p.get_x() + p.get_width(), p.get_y() + p.get_height() / 2.),\n",
    "                   ha='left', va='center')\n",
    "plt.show()\n"
   ]
  }
 ],
 "metadata": {
  "kernelspec": {
   "display_name": "Python 3 (ipykernel)",
   "language": "python",
   "name": "python3"
  },
  "language_info": {
   "codemirror_mode": {
    "name": "ipython",
    "version": 3
   },
   "file_extension": ".py",
   "mimetype": "text/x-python",
   "name": "python",
   "nbconvert_exporter": "python",
   "pygments_lexer": "ipython3",
   "version": "3.9.13"
  }
 },
 "nbformat": 4,
 "nbformat_minor": 5
}
