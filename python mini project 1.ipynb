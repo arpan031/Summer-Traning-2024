{
 "cells": [
  {
   "cell_type": "code",
   "execution_count": 2,
   "id": "c3fd1a90",
   "metadata": {},
   "outputs": [
    {
     "name": "stdout",
     "output_type": "stream",
     "text": [
      "Enter Lower bound:- 1\n",
      "Enter Upper bound:- 10\n",
      "Guess a number:- 5\n",
      "You guessed the below number.\n",
      "Guess a number:- 7\n",
      "You Guessed the above number.\n",
      "Guess a number:- 66\n",
      "You Guessed the above number.\n",
      "Guess a number:- 6\n",
      "Congratulations you did it in  4  try\n"
     ]
    }
   ],
   "source": [
    "import random\n",
    "import math\n",
    "lower = int(input(\"Enter Lower bound:- \"))\n",
    "upper = int(input(\"Enter Upper bound:- \"))\n",
    "x = random.randint(lower, upper)\n",
    "count = 0\n",
    "flag = False\n",
    "while count < 10:\n",
    "    count += 1\n",
    "    guess = int(input(\"Guess a number:- \"))\n",
    "    if x == guess:\n",
    "        print(\"Congratulations you did it in \",\n",
    "              count, \" try\")\n",
    "        flag = True\n",
    "        break\n",
    "    elif x > guess:\n",
    "        print(\"You guessed the below number.\")\n",
    "    elif x < guess:\n",
    "        print(\"You Guessed the above number.\")\n",
    "if not flag:\n",
    "    print(\"\\nThe number is %d\" % x)\n",
    "    print(\"\\tBetter Luck Next time!\")\n"
   ]
  },
  {
   "cell_type": "code",
   "execution_count": 1,
   "id": "4b2fb715",
   "metadata": {},
   "outputs": [
    {
     "name": "stdout",
     "output_type": "stream",
     "text": [
      "Enter Lower bound:- 1\n",
      "Enter Upper bound:- 10\n",
      "\n",
      "\tYou've only  4  chances to guess the integer!\n",
      "\n",
      "Guess a number:- 4\n",
      "You guessed too small!\n",
      "Guess a number:- 7\n",
      "You Guessed too high!\n",
      "Guess a number:- 6\n",
      "You Guessed too high!\n",
      "Guess a number:- 5\n",
      "Congratulations you did it in  4  try\n"
     ]
    }
   ],
   "source": [
    "import random\n",
    "import math\n",
    "lower = int(input(\"Enter Lower bound:- \"))\n",
    "upper = int(input(\"Enter Upper bound:- \"))\n",
    "x = random.randint(lower, upper)\n",
    "total_chances = math.ceil(math.log(upper - lower + 1, 2))\n",
    "print(\"\\n\\tYou've only \", total_chances, \" chances to guess the integer!\\n\")\n",
    "count = 0\n",
    "flag = False\n",
    "while count < total_chances:\n",
    "    count += 1\n",
    "    guess = int(input(\"Guess a number:- \"))\n",
    "    if x == guess:\n",
    "        print(\"Congratulations you did it in \",\n",
    "              count, \" try\")\n",
    "        flag = True\n",
    "        break\n",
    "    elif x > guess:\n",
    "        print(\"You guessed the below number.\")\n",
    "    elif x < guess:\n",
    "        print(\"You Guessed the above number\")\n",
    "if not flag:\n",
    "    print(\"\\nThe number is %d\" % x)\n",
    "    print(\"\\tBetter Luck Next time!\")\n"
   ]
  }
 ],
 "metadata": {
  "kernelspec": {
   "display_name": "Python 3 (ipykernel)",
   "language": "python",
   "name": "python3"
  },
  "language_info": {
   "codemirror_mode": {
    "name": "ipython",
    "version": 3
   },
   "file_extension": ".py",
   "mimetype": "text/x-python",
   "name": "python",
   "nbconvert_exporter": "python",
   "pygments_lexer": "ipython3",
   "version": "3.9.13"
  }
 },
 "nbformat": 4,
 "nbformat_minor": 5
}
